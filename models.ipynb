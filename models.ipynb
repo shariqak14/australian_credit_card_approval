{
 "cells": [
  {
   "cell_type": "markdown",
   "metadata": {
    "colab_type": "text",
    "id": "0evB0nDw01Et"
   },
   "source": [
    "# Predicting Australian Credit Card Approval\n",
    "\n",
    "Several machine learning models are created to predict whether a credit card application will be accepted or denied. According to UCI repository, all attribute names and values have been changed to meaningless symbols to protect confidentiality of the data."
   ]
  },
  {
   "cell_type": "markdown",
   "metadata": {
    "colab_type": "text",
    "id": "HeRxwi1j01Et"
   },
   "source": [
    "## Importing Libraries and Dataset"
   ]
  },
  {
   "cell_type": "code",
   "execution_count": 1,
   "metadata": {
    "colab": {},
    "colab_type": "code",
    "id": "Jq-sH24101Eu"
   },
   "outputs": [],
   "source": [
    "# Python ≥3.5 is required\n",
    "import sys\n",
    "assert sys.version_info >= (3, 5)\n",
    "\n",
    "# Scikit-Learn ≥0.20 is required\n",
    "import sklearn\n",
    "assert sklearn.__version__ >= \"0.20\"\n",
    "\n",
    "# Common imports\n",
    "import numpy as np\n",
    "import pandas as pd\n",
    "import os\n",
    "\n",
    "# Preprocessing\n",
    "from sklearn.pipeline import Pipeline\n",
    "from sklearn.preprocessing import StandardScaler\n",
    "from sklearn.impute import SimpleImputer\n",
    "try:\n",
    "    from sklearn.preprocessing import OneHotEncoder\n",
    "except ImportError:\n",
    "    from future_encoders import OneHotEncoder # Scikit-Learn < 0.20\n",
    "try:\n",
    "    from sklearn.compose import ColumnTransformer\n",
    "except ImportError:\n",
    "    from future_encoders import ColumnTransformer # Scikit-Learn < 0.20\n",
    "\n",
    "# Assessing performance\n",
    "from sklearn.metrics import accuracy_score, mean_squared_error, precision_score, recall_score, precision_recall_curve, roc_curve, roc_auc_score\n",
    "from sklearn.model_selection import cross_val_predict, GridSearchCV, RepeatedStratifiedKFold\n",
    "\n",
    "# Classifiers\n",
    "from sklearn.ensemble import RandomForestClassifier, VotingClassifier, BaggingClassifier, AdaBoostClassifier, GradientBoostingClassifier\n",
    "from sklearn.linear_model import LogisticRegression, RidgeClassifier\n",
    "from sklearn.tree import DecisionTreeClassifier\n",
    "from sklearn.svm import SVC\n",
    "from sklearn.neighbors import KNeighborsClassifier\n",
    "\n",
    "# To plot pretty figures\n",
    "%matplotlib inline\n",
    "import matplotlib as mpl\n",
    "import matplotlib.pyplot as plt\n",
    "mpl.rc('axes', labelsize=14)\n",
    "mpl.rc('xtick', labelsize=12)\n",
    "mpl.rc('ytick', labelsize=12)\n",
    "\n",
    "# Ignore useless warnings (see SciPy issue #5998)\n",
    "import warnings\n",
    "warnings.filterwarnings(action=\"ignore\", message=\"^internal gelsd\")\n",
    "warnings.filterwarnings('ignore')\n",
    "warnings.filterwarnings(action='ignore', category=DeprecationWarning)\n",
    "warnings.filterwarnings(action='ignore', category=FutureWarning)\n",
    "\n",
    "np.random.seed(42) # To make this notebook's output identical at every run"
   ]
  },
  {
   "cell_type": "markdown",
   "metadata": {
    "colab_type": "text",
    "id": "Lxxf3XMe01Ex"
   },
   "source": [
    "## Inspecting the Dataset"
   ]
  },
  {
   "cell_type": "code",
   "execution_count": 3,
   "metadata": {
    "colab": {
     "base_uri": "https://localhost:8080/",
     "height": 204
    },
    "colab_type": "code",
    "id": "0cYoA2_K01Ey",
    "outputId": "18b48ecf-65e0-4084-8e24-b35301a75110"
   },
   "outputs": [
    {
     "data": {
      "text/html": [
       "<div>\n",
       "<style scoped>\n",
       "    .dataframe tbody tr th:only-of-type {\n",
       "        vertical-align: middle;\n",
       "    }\n",
       "\n",
       "    .dataframe tbody tr th {\n",
       "        vertical-align: top;\n",
       "    }\n",
       "\n",
       "    .dataframe thead th {\n",
       "        text-align: right;\n",
       "    }\n",
       "</style>\n",
       "<table border=\"1\" class=\"dataframe\">\n",
       "  <thead>\n",
       "    <tr style=\"text-align: right;\">\n",
       "      <th></th>\n",
       "      <th>A1</th>\n",
       "      <th>A2</th>\n",
       "      <th>A3</th>\n",
       "      <th>A4</th>\n",
       "      <th>A5</th>\n",
       "      <th>A6</th>\n",
       "      <th>A7</th>\n",
       "      <th>A8</th>\n",
       "      <th>A9</th>\n",
       "      <th>A10</th>\n",
       "      <th>A11</th>\n",
       "      <th>A12</th>\n",
       "      <th>A13</th>\n",
       "      <th>A14</th>\n",
       "      <th>A15</th>\n",
       "    </tr>\n",
       "  </thead>\n",
       "  <tbody>\n",
       "    <tr>\n",
       "      <td>0</td>\n",
       "      <td>1</td>\n",
       "      <td>20.50</td>\n",
       "      <td>10.00</td>\n",
       "      <td>1</td>\n",
       "      <td>8</td>\n",
       "      <td>4</td>\n",
       "      <td>2.500</td>\n",
       "      <td>1</td>\n",
       "      <td>0</td>\n",
       "      <td>0</td>\n",
       "      <td>0</td>\n",
       "      <td>1</td>\n",
       "      <td>40</td>\n",
       "      <td>1</td>\n",
       "      <td>1</td>\n",
       "    </tr>\n",
       "    <tr>\n",
       "      <td>1</td>\n",
       "      <td>1</td>\n",
       "      <td>18.58</td>\n",
       "      <td>5.71</td>\n",
       "      <td>2</td>\n",
       "      <td>2</td>\n",
       "      <td>4</td>\n",
       "      <td>0.540</td>\n",
       "      <td>0</td>\n",
       "      <td>0</td>\n",
       "      <td>0</td>\n",
       "      <td>0</td>\n",
       "      <td>2</td>\n",
       "      <td>120</td>\n",
       "      <td>1</td>\n",
       "      <td>0</td>\n",
       "    </tr>\n",
       "    <tr>\n",
       "      <td>2</td>\n",
       "      <td>0</td>\n",
       "      <td>24.75</td>\n",
       "      <td>3.00</td>\n",
       "      <td>2</td>\n",
       "      <td>11</td>\n",
       "      <td>8</td>\n",
       "      <td>1.835</td>\n",
       "      <td>1</td>\n",
       "      <td>1</td>\n",
       "      <td>19</td>\n",
       "      <td>0</td>\n",
       "      <td>2</td>\n",
       "      <td>0</td>\n",
       "      <td>501</td>\n",
       "      <td>1</td>\n",
       "    </tr>\n",
       "    <tr>\n",
       "      <td>3</td>\n",
       "      <td>1</td>\n",
       "      <td>27.42</td>\n",
       "      <td>12.50</td>\n",
       "      <td>2</td>\n",
       "      <td>6</td>\n",
       "      <td>5</td>\n",
       "      <td>0.250</td>\n",
       "      <td>0</td>\n",
       "      <td>0</td>\n",
       "      <td>0</td>\n",
       "      <td>1</td>\n",
       "      <td>2</td>\n",
       "      <td>720</td>\n",
       "      <td>1</td>\n",
       "      <td>0</td>\n",
       "    </tr>\n",
       "    <tr>\n",
       "      <td>4</td>\n",
       "      <td>1</td>\n",
       "      <td>22.75</td>\n",
       "      <td>11.00</td>\n",
       "      <td>2</td>\n",
       "      <td>11</td>\n",
       "      <td>4</td>\n",
       "      <td>2.500</td>\n",
       "      <td>1</td>\n",
       "      <td>1</td>\n",
       "      <td>7</td>\n",
       "      <td>1</td>\n",
       "      <td>2</td>\n",
       "      <td>100</td>\n",
       "      <td>810</td>\n",
       "      <td>1</td>\n",
       "    </tr>\n",
       "  </tbody>\n",
       "</table>\n",
       "</div>"
      ],
      "text/plain": [
       "   A1     A2     A3  A4  A5  A6     A7  A8  A9  A10  A11  A12  A13  A14  A15\n",
       "0   1  20.50  10.00   1   8   4  2.500   1   0    0    0    1   40    1    1\n",
       "1   1  18.58   5.71   2   2   4  0.540   0   0    0    0    2  120    1    0\n",
       "2   0  24.75   3.00   2  11   8  1.835   1   1   19    0    2    0  501    1\n",
       "3   1  27.42  12.50   2   6   5  0.250   0   0    0    1    2  720    1    0\n",
       "4   1  22.75  11.00   2  11   4  2.500   1   1    7    1    2  100  810    1"
      ]
     },
     "execution_count": 3,
     "metadata": {},
     "output_type": "execute_result"
    }
   ],
   "source": [
    "dataset = pd.read_csv(r'credit_card_data/training_data.csv')\n",
    "dataset.head()"
   ]
  },
  {
   "cell_type": "code",
   "execution_count": 4,
   "metadata": {
    "colab": {
     "base_uri": "https://localhost:8080/",
     "height": 391
    },
    "colab_type": "code",
    "id": "UPhNo4Wa01E1",
    "outputId": "1aee5429-9ed1-414c-d10a-2a2cbab530ee"
   },
   "outputs": [
    {
     "name": "stdout",
     "output_type": "stream",
     "text": [
      "<class 'pandas.core.frame.DataFrame'>\n",
      "RangeIndex: 255 entries, 0 to 254\n",
      "Data columns (total 15 columns):\n",
      "A1     255 non-null int64\n",
      "A2     255 non-null float64\n",
      "A3     255 non-null float64\n",
      "A4     255 non-null int64\n",
      "A5     255 non-null int64\n",
      "A6     255 non-null int64\n",
      "A7     255 non-null float64\n",
      "A8     255 non-null int64\n",
      "A9     255 non-null int64\n",
      "A10    255 non-null int64\n",
      "A11    255 non-null int64\n",
      "A12    255 non-null int64\n",
      "A13    255 non-null int64\n",
      "A14    255 non-null int64\n",
      "A15    255 non-null int64\n",
      "dtypes: float64(3), int64(12)\n",
      "memory usage: 30.0 KB\n"
     ]
    }
   ],
   "source": [
    "dataset.info()"
   ]
  },
  {
   "cell_type": "code",
   "execution_count": 5,
   "metadata": {
    "colab": {
     "base_uri": "https://localhost:8080/",
     "height": 297
    },
    "colab_type": "code",
    "id": "BuPV96O501E6",
    "outputId": "4290fa0a-2e8c-4900-ab43-3329cf731325"
   },
   "outputs": [
    {
     "data": {
      "text/html": [
       "<div>\n",
       "<style scoped>\n",
       "    .dataframe tbody tr th:only-of-type {\n",
       "        vertical-align: middle;\n",
       "    }\n",
       "\n",
       "    .dataframe tbody tr th {\n",
       "        vertical-align: top;\n",
       "    }\n",
       "\n",
       "    .dataframe thead th {\n",
       "        text-align: right;\n",
       "    }\n",
       "</style>\n",
       "<table border=\"1\" class=\"dataframe\">\n",
       "  <thead>\n",
       "    <tr style=\"text-align: right;\">\n",
       "      <th></th>\n",
       "      <th>A1</th>\n",
       "      <th>A2</th>\n",
       "      <th>A3</th>\n",
       "      <th>A4</th>\n",
       "      <th>A5</th>\n",
       "      <th>A6</th>\n",
       "      <th>A7</th>\n",
       "      <th>A8</th>\n",
       "      <th>A9</th>\n",
       "      <th>A10</th>\n",
       "      <th>A11</th>\n",
       "      <th>A12</th>\n",
       "      <th>A13</th>\n",
       "      <th>A14</th>\n",
       "      <th>A15</th>\n",
       "    </tr>\n",
       "  </thead>\n",
       "  <tbody>\n",
       "    <tr>\n",
       "      <td>count</td>\n",
       "      <td>255.000000</td>\n",
       "      <td>255.000000</td>\n",
       "      <td>255.000000</td>\n",
       "      <td>255.000000</td>\n",
       "      <td>255.000000</td>\n",
       "      <td>255.000000</td>\n",
       "      <td>255.000000</td>\n",
       "      <td>255.000000</td>\n",
       "      <td>255.000000</td>\n",
       "      <td>255.000000</td>\n",
       "      <td>255.000000</td>\n",
       "      <td>255.000000</td>\n",
       "      <td>255.000000</td>\n",
       "      <td>255.000000</td>\n",
       "      <td>255.000000</td>\n",
       "    </tr>\n",
       "    <tr>\n",
       "      <td>mean</td>\n",
       "      <td>0.666667</td>\n",
       "      <td>31.583373</td>\n",
       "      <td>5.088196</td>\n",
       "      <td>1.800000</td>\n",
       "      <td>7.450980</td>\n",
       "      <td>4.729412</td>\n",
       "      <td>2.446137</td>\n",
       "      <td>0.552941</td>\n",
       "      <td>0.447059</td>\n",
       "      <td>2.635294</td>\n",
       "      <td>0.462745</td>\n",
       "      <td>1.909804</td>\n",
       "      <td>194.701961</td>\n",
       "      <td>1219.729412</td>\n",
       "      <td>0.462745</td>\n",
       "    </tr>\n",
       "    <tr>\n",
       "      <td>std</td>\n",
       "      <td>0.472332</td>\n",
       "      <td>12.114778</td>\n",
       "      <td>5.224500</td>\n",
       "      <td>0.419974</td>\n",
       "      <td>3.738045</td>\n",
       "      <td>1.998355</td>\n",
       "      <td>3.757285</td>\n",
       "      <td>0.498167</td>\n",
       "      <td>0.498167</td>\n",
       "      <td>4.792170</td>\n",
       "      <td>0.499591</td>\n",
       "      <td>0.325585</td>\n",
       "      <td>184.627240</td>\n",
       "      <td>7129.539466</td>\n",
       "      <td>0.499591</td>\n",
       "    </tr>\n",
       "    <tr>\n",
       "      <td>min</td>\n",
       "      <td>0.000000</td>\n",
       "      <td>15.750000</td>\n",
       "      <td>0.000000</td>\n",
       "      <td>1.000000</td>\n",
       "      <td>1.000000</td>\n",
       "      <td>1.000000</td>\n",
       "      <td>0.000000</td>\n",
       "      <td>0.000000</td>\n",
       "      <td>0.000000</td>\n",
       "      <td>0.000000</td>\n",
       "      <td>0.000000</td>\n",
       "      <td>1.000000</td>\n",
       "      <td>0.000000</td>\n",
       "      <td>1.000000</td>\n",
       "      <td>0.000000</td>\n",
       "    </tr>\n",
       "    <tr>\n",
       "      <td>25%</td>\n",
       "      <td>0.000000</td>\n",
       "      <td>22.670000</td>\n",
       "      <td>1.062500</td>\n",
       "      <td>2.000000</td>\n",
       "      <td>4.000000</td>\n",
       "      <td>4.000000</td>\n",
       "      <td>0.250000</td>\n",
       "      <td>0.000000</td>\n",
       "      <td>0.000000</td>\n",
       "      <td>0.000000</td>\n",
       "      <td>0.000000</td>\n",
       "      <td>2.000000</td>\n",
       "      <td>67.500000</td>\n",
       "      <td>1.000000</td>\n",
       "      <td>0.000000</td>\n",
       "    </tr>\n",
       "    <tr>\n",
       "      <td>50%</td>\n",
       "      <td>1.000000</td>\n",
       "      <td>28.750000</td>\n",
       "      <td>3.000000</td>\n",
       "      <td>2.000000</td>\n",
       "      <td>8.000000</td>\n",
       "      <td>4.000000</td>\n",
       "      <td>1.000000</td>\n",
       "      <td>1.000000</td>\n",
       "      <td>0.000000</td>\n",
       "      <td>0.000000</td>\n",
       "      <td>0.000000</td>\n",
       "      <td>2.000000</td>\n",
       "      <td>160.000000</td>\n",
       "      <td>6.000000</td>\n",
       "      <td>0.000000</td>\n",
       "    </tr>\n",
       "    <tr>\n",
       "      <td>75%</td>\n",
       "      <td>1.000000</td>\n",
       "      <td>37.585000</td>\n",
       "      <td>8.480000</td>\n",
       "      <td>2.000000</td>\n",
       "      <td>10.000000</td>\n",
       "      <td>5.000000</td>\n",
       "      <td>3.167500</td>\n",
       "      <td>1.000000</td>\n",
       "      <td>1.000000</td>\n",
       "      <td>3.000000</td>\n",
       "      <td>1.000000</td>\n",
       "      <td>2.000000</td>\n",
       "      <td>280.000000</td>\n",
       "      <td>396.000000</td>\n",
       "      <td>1.000000</td>\n",
       "    </tr>\n",
       "    <tr>\n",
       "      <td>max</td>\n",
       "      <td>1.000000</td>\n",
       "      <td>80.250000</td>\n",
       "      <td>28.000000</td>\n",
       "      <td>3.000000</td>\n",
       "      <td>14.000000</td>\n",
       "      <td>9.000000</td>\n",
       "      <td>28.500000</td>\n",
       "      <td>1.000000</td>\n",
       "      <td>1.000000</td>\n",
       "      <td>40.000000</td>\n",
       "      <td>1.000000</td>\n",
       "      <td>3.000000</td>\n",
       "      <td>1160.000000</td>\n",
       "      <td>100001.000000</td>\n",
       "      <td>1.000000</td>\n",
       "    </tr>\n",
       "  </tbody>\n",
       "</table>\n",
       "</div>"
      ],
      "text/plain": [
       "               A1          A2          A3          A4          A5          A6  \\\n",
       "count  255.000000  255.000000  255.000000  255.000000  255.000000  255.000000   \n",
       "mean     0.666667   31.583373    5.088196    1.800000    7.450980    4.729412   \n",
       "std      0.472332   12.114778    5.224500    0.419974    3.738045    1.998355   \n",
       "min      0.000000   15.750000    0.000000    1.000000    1.000000    1.000000   \n",
       "25%      0.000000   22.670000    1.062500    2.000000    4.000000    4.000000   \n",
       "50%      1.000000   28.750000    3.000000    2.000000    8.000000    4.000000   \n",
       "75%      1.000000   37.585000    8.480000    2.000000   10.000000    5.000000   \n",
       "max      1.000000   80.250000   28.000000    3.000000   14.000000    9.000000   \n",
       "\n",
       "               A7          A8          A9         A10         A11         A12  \\\n",
       "count  255.000000  255.000000  255.000000  255.000000  255.000000  255.000000   \n",
       "mean     2.446137    0.552941    0.447059    2.635294    0.462745    1.909804   \n",
       "std      3.757285    0.498167    0.498167    4.792170    0.499591    0.325585   \n",
       "min      0.000000    0.000000    0.000000    0.000000    0.000000    1.000000   \n",
       "25%      0.250000    0.000000    0.000000    0.000000    0.000000    2.000000   \n",
       "50%      1.000000    1.000000    0.000000    0.000000    0.000000    2.000000   \n",
       "75%      3.167500    1.000000    1.000000    3.000000    1.000000    2.000000   \n",
       "max     28.500000    1.000000    1.000000   40.000000    1.000000    3.000000   \n",
       "\n",
       "               A13            A14         A15  \n",
       "count   255.000000     255.000000  255.000000  \n",
       "mean    194.701961    1219.729412    0.462745  \n",
       "std     184.627240    7129.539466    0.499591  \n",
       "min       0.000000       1.000000    0.000000  \n",
       "25%      67.500000       1.000000    0.000000  \n",
       "50%     160.000000       6.000000    0.000000  \n",
       "75%     280.000000     396.000000    1.000000  \n",
       "max    1160.000000  100001.000000    1.000000  "
      ]
     },
     "execution_count": 5,
     "metadata": {},
     "output_type": "execute_result"
    }
   ],
   "source": [
    "dataset.describe()"
   ]
  },
  {
   "cell_type": "code",
   "execution_count": 6,
   "metadata": {
    "colab": {
     "base_uri": "https://localhost:8080/",
     "height": 882
    },
    "colab_type": "code",
    "id": "acPz5XtS01E9",
    "outputId": "b63dc7e5-35a5-4d8e-f2ce-fb8e8c764014"
   },
   "outputs": [
    {
     "data": {
      "image/png": "[encoded data removed]",
      "text/plain": [
       "<Figure size 1080x1080 with 16 Axes>"
      ]
     },
     "metadata": {
      "needs_background": "light"
     },
     "output_type": "display_data"
    }
   ],
   "source": [
    "dataset.hist(bins=50,density=True,figsize=(15,15))\n",
    "plt.show()"
   ]
  },
  {
   "cell_type": "markdown",
   "metadata": {
    "colab_type": "text",
    "id": "F310mL4CNPFM"
   },
   "source": [
    "## Preprocessing the Data"
   ]
  },
  {
   "cell_type": "markdown",
   "metadata": {
    "colab_type": "text",
    "id": "H6kthlzjBQID"
   },
   "source": [
    "### Handling Categorical Attributes\n",
    "Since the size of the dataset is small, One Hot Encoding separately will lead to different shapes in the training and testing data. So, we must OneHotEncode all the categorical variables before we split the dataset into training and testing data."
   ]
  },
  {
   "cell_type": "code",
   "execution_count": 7,
   "metadata": {
    "colab": {},
    "colab_type": "code",
    "id": "3ibWPHh9BQIE"
   },
   "outputs": [],
   "source": [
    "features = dataset.drop('A15', axis=1)\n",
    "y_train = dataset['A15'].copy()"
   ]
  },
  {
   "cell_type": "code",
   "execution_count": 8,
   "metadata": {
    "colab": {
     "base_uri": "https://localhost:8080/",
     "height": 136
    },
    "colab_type": "code",
    "id": "nmy1Hsi3BQIH",
    "outputId": "9e66d978-e47d-4cab-b9f4-7a11486a844b"
   },
   "outputs": [
    {
     "data": {
      "text/plain": [
       "array([[0., 1., 1., ..., 1., 0., 0.],\n",
       "       [0., 1., 0., ..., 0., 1., 0.],\n",
       "       [1., 0., 0., ..., 0., 1., 0.],\n",
       "       ...,\n",
       "       [0., 1., 0., ..., 0., 1., 0.],\n",
       "       [0., 1., 0., ..., 1., 0., 0.],\n",
       "       [0., 1., 0., ..., 0., 1., 0.]])"
      ]
     },
     "execution_count": 8,
     "metadata": {},
     "output_type": "execute_result"
    }
   ],
   "source": [
    "cat_attribs = ['A1', 'A4', 'A5', 'A6', 'A8', 'A9', 'A11', 'A12'] # get a list of all the categorical attributes\n",
    "cat_col = features.loc[:, cat_attribs]\n",
    "\n",
    "encode = OneHotEncoder(categories='auto', sparse=False)\n",
    "cat_arr = encode.fit_transform(cat_col)\n",
    "cat_arr"
   ]
  },
  {
   "cell_type": "code",
   "execution_count": 9,
   "metadata": {
    "colab": {
     "base_uri": "https://localhost:8080/",
     "height": 34
    },
    "colab_type": "code",
    "id": "QVpAExrwH3lY",
    "outputId": "269f2252-65cb-44bb-aea6-a59c4bbab370"
   },
   "outputs": [
    {
     "data": {
      "text/plain": [
       "(255, 35)"
      ]
     },
     "execution_count": 9,
     "metadata": {},
     "output_type": "execute_result"
    }
   ],
   "source": [
    "cat_arr.shape"
   ]
  },
  {
   "cell_type": "markdown",
   "metadata": {},
   "source": [
    "Now, we grab all the numerical attributes and concatenate the OneHotEncoded categorical attributes with the numerical attributes."
   ]
  },
  {
   "cell_type": "code",
   "execution_count": 10,
   "metadata": {
    "colab": {
     "base_uri": "https://localhost:8080/",
     "height": 136
    },
    "colab_type": "code",
    "id": "y6DX_y5fE_Ri",
    "outputId": "546c4c30-3162-4b53-c6eb-f7b86134d4a4"
   },
   "outputs": [
    {
     "data": {
      "text/plain": [
       "array([[2.050e+01, 1.000e+01, 2.500e+00, 0.000e+00, 4.000e+01, 1.000e+00],\n",
       "       [1.858e+01, 5.710e+00, 5.400e-01, 0.000e+00, 1.200e+02, 1.000e+00],\n",
       "       [2.475e+01, 3.000e+00, 1.835e+00, 1.900e+01, 0.000e+00, 5.010e+02],\n",
       "       ...,\n",
       "       [1.942e+01, 7.250e+00, 4.000e-02, 1.000e+00, 1.000e+02, 2.000e+00],\n",
       "       [3.358e+01, 2.500e-01, 4.000e+00, 0.000e+00, 4.200e+02, 1.000e+00],\n",
       "       [4.817e+01, 7.625e+00, 1.550e+01, 1.200e+01, 0.000e+00, 7.910e+02]])"
      ]
     },
     "execution_count": 10,
     "metadata": {},
     "output_type": "execute_result"
    }
   ],
   "source": [
    "num_attribs = ['A2', 'A3', 'A7', 'A10', 'A13', 'A14'] # get a list of all the numerical attributes\n",
    "num_arr = features.loc[:, num_attribs].values\n",
    "num_arr"
   ]
  },
  {
   "cell_type": "code",
   "execution_count": 11,
   "metadata": {
    "colab": {
     "base_uri": "https://localhost:8080/",
     "height": 34
    },
    "colab_type": "code",
    "id": "_H_-KjwFH6w7",
    "outputId": "de642b8a-3b3e-478d-e7b6-45f61ada4a8f"
   },
   "outputs": [
    {
     "data": {
      "text/plain": [
       "(255, 6)"
      ]
     },
     "execution_count": 11,
     "metadata": {},
     "output_type": "execute_result"
    }
   ],
   "source": [
    "num_arr.shape"
   ]
  },
  {
   "cell_type": "code",
   "execution_count": 12,
   "metadata": {
    "colab": {
     "base_uri": "https://localhost:8080/",
     "height": 238
    },
    "colab_type": "code",
    "id": "aSLr7dWKGcDo",
    "outputId": "647eb7de-53e7-43d8-985d-4d4f6c93f7d1"
   },
   "outputs": [
    {
     "data": {
      "text/plain": [
       "array([[2.050e+01, 1.000e+01, 2.500e+00, ..., 1.000e+00, 0.000e+00,\n",
       "        0.000e+00],\n",
       "       [1.858e+01, 5.710e+00, 5.400e-01, ..., 0.000e+00, 1.000e+00,\n",
       "        0.000e+00],\n",
       "       [2.475e+01, 3.000e+00, 1.835e+00, ..., 0.000e+00, 1.000e+00,\n",
       "        0.000e+00],\n",
       "       ...,\n",
       "       [1.942e+01, 7.250e+00, 4.000e-02, ..., 0.000e+00, 1.000e+00,\n",
       "        0.000e+00],\n",
       "       [3.358e+01, 2.500e-01, 4.000e+00, ..., 1.000e+00, 0.000e+00,\n",
       "        0.000e+00],\n",
       "       [4.817e+01, 7.625e+00, 1.550e+01, ..., 0.000e+00, 1.000e+00,\n",
       "        0.000e+00]])"
      ]
     },
     "execution_count": 12,
     "metadata": {},
     "output_type": "execute_result"
    }
   ],
   "source": [
    "features_std = np.concatenate((num_arr, cat_arr), axis=1)\n",
    "features_std"
   ]
  },
  {
   "cell_type": "code",
   "execution_count": 13,
   "metadata": {
    "colab": {
     "base_uri": "https://localhost:8080/",
     "height": 34
    },
    "colab_type": "code",
    "id": "QaLHsHCYIDq3",
    "outputId": "fc01ebd3-c6e9-4491-cc01-eed932aefc71"
   },
   "outputs": [
    {
     "data": {
      "text/plain": [
       "(255, 41)"
      ]
     },
     "execution_count": 13,
     "metadata": {},
     "output_type": "execute_result"
    }
   ],
   "source": [
    "features_std.shape"
   ]
  },
  {
   "cell_type": "markdown",
   "metadata": {},
   "source": [
    "The combined dataset is converted into a dataframe since to make it easier for preprocessing steps."
   ]
  },
  {
   "cell_type": "code",
   "execution_count": 14,
   "metadata": {
    "colab": {
     "base_uri": "https://localhost:8080/",
     "height": 419
    },
    "colab_type": "code",
    "id": "epQpbbHnYHS-",
    "outputId": "0006e7f0-a483-453b-d075-7eb71ba77979"
   },
   "outputs": [
    {
     "data": {
      "text/html": [
       "<div>\n",
       "<style scoped>\n",
       "    .dataframe tbody tr th:only-of-type {\n",
       "        vertical-align: middle;\n",
       "    }\n",
       "\n",
       "    .dataframe tbody tr th {\n",
       "        vertical-align: top;\n",
       "    }\n",
       "\n",
       "    .dataframe thead th {\n",
       "        text-align: right;\n",
       "    }\n",
       "</style>\n",
       "<table border=\"1\" class=\"dataframe\">\n",
       "  <thead>\n",
       "    <tr style=\"text-align: right;\">\n",
       "      <th></th>\n",
       "      <th>0</th>\n",
       "      <th>1</th>\n",
       "      <th>2</th>\n",
       "      <th>3</th>\n",
       "      <th>4</th>\n",
       "      <th>5</th>\n",
       "      <th>6</th>\n",
       "      <th>7</th>\n",
       "      <th>8</th>\n",
       "      <th>9</th>\n",
       "      <th>...</th>\n",
       "      <th>31</th>\n",
       "      <th>32</th>\n",
       "      <th>33</th>\n",
       "      <th>34</th>\n",
       "      <th>35</th>\n",
       "      <th>36</th>\n",
       "      <th>37</th>\n",
       "      <th>38</th>\n",
       "      <th>39</th>\n",
       "      <th>40</th>\n",
       "    </tr>\n",
       "  </thead>\n",
       "  <tbody>\n",
       "    <tr>\n",
       "      <td>0</td>\n",
       "      <td>20.50</td>\n",
       "      <td>10.000</td>\n",
       "      <td>2.500</td>\n",
       "      <td>0.0</td>\n",
       "      <td>40.0</td>\n",
       "      <td>1.0</td>\n",
       "      <td>0.0</td>\n",
       "      <td>1.0</td>\n",
       "      <td>1.0</td>\n",
       "      <td>0.0</td>\n",
       "      <td>...</td>\n",
       "      <td>0.0</td>\n",
       "      <td>0.0</td>\n",
       "      <td>1.0</td>\n",
       "      <td>1.0</td>\n",
       "      <td>0.0</td>\n",
       "      <td>1.0</td>\n",
       "      <td>0.0</td>\n",
       "      <td>1.0</td>\n",
       "      <td>0.0</td>\n",
       "      <td>0.0</td>\n",
       "    </tr>\n",
       "    <tr>\n",
       "      <td>1</td>\n",
       "      <td>18.58</td>\n",
       "      <td>5.710</td>\n",
       "      <td>0.540</td>\n",
       "      <td>0.0</td>\n",
       "      <td>120.0</td>\n",
       "      <td>1.0</td>\n",
       "      <td>0.0</td>\n",
       "      <td>1.0</td>\n",
       "      <td>0.0</td>\n",
       "      <td>1.0</td>\n",
       "      <td>...</td>\n",
       "      <td>0.0</td>\n",
       "      <td>1.0</td>\n",
       "      <td>0.0</td>\n",
       "      <td>1.0</td>\n",
       "      <td>0.0</td>\n",
       "      <td>1.0</td>\n",
       "      <td>0.0</td>\n",
       "      <td>0.0</td>\n",
       "      <td>1.0</td>\n",
       "      <td>0.0</td>\n",
       "    </tr>\n",
       "    <tr>\n",
       "      <td>2</td>\n",
       "      <td>24.75</td>\n",
       "      <td>3.000</td>\n",
       "      <td>1.835</td>\n",
       "      <td>19.0</td>\n",
       "      <td>0.0</td>\n",
       "      <td>501.0</td>\n",
       "      <td>1.0</td>\n",
       "      <td>0.0</td>\n",
       "      <td>0.0</td>\n",
       "      <td>1.0</td>\n",
       "      <td>...</td>\n",
       "      <td>0.0</td>\n",
       "      <td>0.0</td>\n",
       "      <td>1.0</td>\n",
       "      <td>0.0</td>\n",
       "      <td>1.0</td>\n",
       "      <td>1.0</td>\n",
       "      <td>0.0</td>\n",
       "      <td>0.0</td>\n",
       "      <td>1.0</td>\n",
       "      <td>0.0</td>\n",
       "    </tr>\n",
       "    <tr>\n",
       "      <td>3</td>\n",
       "      <td>27.42</td>\n",
       "      <td>12.500</td>\n",
       "      <td>0.250</td>\n",
       "      <td>0.0</td>\n",
       "      <td>720.0</td>\n",
       "      <td>1.0</td>\n",
       "      <td>0.0</td>\n",
       "      <td>1.0</td>\n",
       "      <td>0.0</td>\n",
       "      <td>1.0</td>\n",
       "      <td>...</td>\n",
       "      <td>0.0</td>\n",
       "      <td>1.0</td>\n",
       "      <td>0.0</td>\n",
       "      <td>1.0</td>\n",
       "      <td>0.0</td>\n",
       "      <td>0.0</td>\n",
       "      <td>1.0</td>\n",
       "      <td>0.0</td>\n",
       "      <td>1.0</td>\n",
       "      <td>0.0</td>\n",
       "    </tr>\n",
       "    <tr>\n",
       "      <td>4</td>\n",
       "      <td>22.75</td>\n",
       "      <td>11.000</td>\n",
       "      <td>2.500</td>\n",
       "      <td>7.0</td>\n",
       "      <td>100.0</td>\n",
       "      <td>810.0</td>\n",
       "      <td>0.0</td>\n",
       "      <td>1.0</td>\n",
       "      <td>0.0</td>\n",
       "      <td>1.0</td>\n",
       "      <td>...</td>\n",
       "      <td>0.0</td>\n",
       "      <td>0.0</td>\n",
       "      <td>1.0</td>\n",
       "      <td>0.0</td>\n",
       "      <td>1.0</td>\n",
       "      <td>0.0</td>\n",
       "      <td>1.0</td>\n",
       "      <td>0.0</td>\n",
       "      <td>1.0</td>\n",
       "      <td>0.0</td>\n",
       "    </tr>\n",
       "    <tr>\n",
       "      <td>...</td>\n",
       "      <td>...</td>\n",
       "      <td>...</td>\n",
       "      <td>...</td>\n",
       "      <td>...</td>\n",
       "      <td>...</td>\n",
       "      <td>...</td>\n",
       "      <td>...</td>\n",
       "      <td>...</td>\n",
       "      <td>...</td>\n",
       "      <td>...</td>\n",
       "      <td>...</td>\n",
       "      <td>...</td>\n",
       "      <td>...</td>\n",
       "      <td>...</td>\n",
       "      <td>...</td>\n",
       "      <td>...</td>\n",
       "      <td>...</td>\n",
       "      <td>...</td>\n",
       "      <td>...</td>\n",
       "      <td>...</td>\n",
       "      <td>...</td>\n",
       "    </tr>\n",
       "    <tr>\n",
       "      <td>250</td>\n",
       "      <td>35.17</td>\n",
       "      <td>2.500</td>\n",
       "      <td>4.500</td>\n",
       "      <td>7.0</td>\n",
       "      <td>150.0</td>\n",
       "      <td>1271.0</td>\n",
       "      <td>0.0</td>\n",
       "      <td>1.0</td>\n",
       "      <td>0.0</td>\n",
       "      <td>1.0</td>\n",
       "      <td>...</td>\n",
       "      <td>0.0</td>\n",
       "      <td>0.0</td>\n",
       "      <td>1.0</td>\n",
       "      <td>0.0</td>\n",
       "      <td>1.0</td>\n",
       "      <td>1.0</td>\n",
       "      <td>0.0</td>\n",
       "      <td>0.0</td>\n",
       "      <td>1.0</td>\n",
       "      <td>0.0</td>\n",
       "    </tr>\n",
       "    <tr>\n",
       "      <td>251</td>\n",
       "      <td>23.08</td>\n",
       "      <td>2.500</td>\n",
       "      <td>1.085</td>\n",
       "      <td>11.0</td>\n",
       "      <td>60.0</td>\n",
       "      <td>2185.0</td>\n",
       "      <td>0.0</td>\n",
       "      <td>1.0</td>\n",
       "      <td>0.0</td>\n",
       "      <td>1.0</td>\n",
       "      <td>...</td>\n",
       "      <td>0.0</td>\n",
       "      <td>0.0</td>\n",
       "      <td>1.0</td>\n",
       "      <td>0.0</td>\n",
       "      <td>1.0</td>\n",
       "      <td>0.0</td>\n",
       "      <td>1.0</td>\n",
       "      <td>0.0</td>\n",
       "      <td>1.0</td>\n",
       "      <td>0.0</td>\n",
       "    </tr>\n",
       "    <tr>\n",
       "      <td>252</td>\n",
       "      <td>19.42</td>\n",
       "      <td>7.250</td>\n",
       "      <td>0.040</td>\n",
       "      <td>1.0</td>\n",
       "      <td>100.0</td>\n",
       "      <td>2.0</td>\n",
       "      <td>0.0</td>\n",
       "      <td>1.0</td>\n",
       "      <td>0.0</td>\n",
       "      <td>1.0</td>\n",
       "      <td>...</td>\n",
       "      <td>0.0</td>\n",
       "      <td>1.0</td>\n",
       "      <td>0.0</td>\n",
       "      <td>0.0</td>\n",
       "      <td>1.0</td>\n",
       "      <td>1.0</td>\n",
       "      <td>0.0</td>\n",
       "      <td>0.0</td>\n",
       "      <td>1.0</td>\n",
       "      <td>0.0</td>\n",
       "    </tr>\n",
       "    <tr>\n",
       "      <td>253</td>\n",
       "      <td>33.58</td>\n",
       "      <td>0.250</td>\n",
       "      <td>4.000</td>\n",
       "      <td>0.0</td>\n",
       "      <td>420.0</td>\n",
       "      <td>1.0</td>\n",
       "      <td>0.0</td>\n",
       "      <td>1.0</td>\n",
       "      <td>0.0</td>\n",
       "      <td>1.0</td>\n",
       "      <td>...</td>\n",
       "      <td>0.0</td>\n",
       "      <td>1.0</td>\n",
       "      <td>0.0</td>\n",
       "      <td>1.0</td>\n",
       "      <td>0.0</td>\n",
       "      <td>0.0</td>\n",
       "      <td>1.0</td>\n",
       "      <td>1.0</td>\n",
       "      <td>0.0</td>\n",
       "      <td>0.0</td>\n",
       "    </tr>\n",
       "    <tr>\n",
       "      <td>254</td>\n",
       "      <td>48.17</td>\n",
       "      <td>7.625</td>\n",
       "      <td>15.500</td>\n",
       "      <td>12.0</td>\n",
       "      <td>0.0</td>\n",
       "      <td>791.0</td>\n",
       "      <td>0.0</td>\n",
       "      <td>1.0</td>\n",
       "      <td>0.0</td>\n",
       "      <td>1.0</td>\n",
       "      <td>...</td>\n",
       "      <td>0.0</td>\n",
       "      <td>0.0</td>\n",
       "      <td>1.0</td>\n",
       "      <td>0.0</td>\n",
       "      <td>1.0</td>\n",
       "      <td>1.0</td>\n",
       "      <td>0.0</td>\n",
       "      <td>0.0</td>\n",
       "      <td>1.0</td>\n",
       "      <td>0.0</td>\n",
       "    </tr>\n",
       "  </tbody>\n",
       "</table>\n",
       "<p>255 rows × 41 columns</p>\n",
       "</div>"
      ],
      "text/plain": [
       "         0       1       2     3      4       5    6    7    8    9  ...   31  \\\n",
       "0    20.50  10.000   2.500   0.0   40.0     1.0  0.0  1.0  1.0  0.0  ...  0.0   \n",
       "1    18.58   5.710   0.540   0.0  120.0     1.0  0.0  1.0  0.0  1.0  ...  0.0   \n",
       "2    24.75   3.000   1.835  19.0    0.0   501.0  1.0  0.0  0.0  1.0  ...  0.0   \n",
       "3    27.42  12.500   0.250   0.0  720.0     1.0  0.0  1.0  0.0  1.0  ...  0.0   \n",
       "4    22.75  11.000   2.500   7.0  100.0   810.0  0.0  1.0  0.0  1.0  ...  0.0   \n",
       "..     ...     ...     ...   ...    ...     ...  ...  ...  ...  ...  ...  ...   \n",
       "250  35.17   2.500   4.500   7.0  150.0  1271.0  0.0  1.0  0.0  1.0  ...  0.0   \n",
       "251  23.08   2.500   1.085  11.0   60.0  2185.0  0.0  1.0  0.0  1.0  ...  0.0   \n",
       "252  19.42   7.250   0.040   1.0  100.0     2.0  0.0  1.0  0.0  1.0  ...  0.0   \n",
       "253  33.58   0.250   4.000   0.0  420.0     1.0  0.0  1.0  0.0  1.0  ...  0.0   \n",
       "254  48.17   7.625  15.500  12.0    0.0   791.0  0.0  1.0  0.0  1.0  ...  0.0   \n",
       "\n",
       "      32   33   34   35   36   37   38   39   40  \n",
       "0    0.0  1.0  1.0  0.0  1.0  0.0  1.0  0.0  0.0  \n",
       "1    1.0  0.0  1.0  0.0  1.0  0.0  0.0  1.0  0.0  \n",
       "2    0.0  1.0  0.0  1.0  1.0  0.0  0.0  1.0  0.0  \n",
       "3    1.0  0.0  1.0  0.0  0.0  1.0  0.0  1.0  0.0  \n",
       "4    0.0  1.0  0.0  1.0  0.0  1.0  0.0  1.0  0.0  \n",
       "..   ...  ...  ...  ...  ...  ...  ...  ...  ...  \n",
       "250  0.0  1.0  0.0  1.0  1.0  0.0  0.0  1.0  0.0  \n",
       "251  0.0  1.0  0.0  1.0  0.0  1.0  0.0  1.0  0.0  \n",
       "252  1.0  0.0  0.0  1.0  1.0  0.0  0.0  1.0  0.0  \n",
       "253  1.0  0.0  1.0  0.0  0.0  1.0  1.0  0.0  0.0  \n",
       "254  0.0  1.0  0.0  1.0  1.0  0.0  0.0  1.0  0.0  \n",
       "\n",
       "[255 rows x 41 columns]"
      ]
     },
     "execution_count": 14,
     "metadata": {},
     "output_type": "execute_result"
    }
   ],
   "source": [
    "X_train = pd.DataFrame(data=features_std, \n",
    "                       index=[str(i) for i in range(len(features_std))], \n",
    "                       columns=[str(i) for i in range(len(features_std[0]))])\n",
    "\n",
    "X_train"
   ]
  },
  {
   "cell_type": "code",
   "execution_count": 15,
   "metadata": {
    "colab": {
     "base_uri": "https://localhost:8080/",
     "height": 34
    },
    "colab_type": "code",
    "id": "T-o384XYCpt1",
    "outputId": "4a084a5c-9c98-4bf2-c69d-398ca061aa9d"
   },
   "outputs": [
    {
     "name": "stdout",
     "output_type": "stream",
     "text": [
      "(255, 41) (255,)\n"
     ]
    }
   ],
   "source": [
    "print(X_train.shape, y_train.shape)"
   ]
  },
  {
   "cell_type": "markdown",
   "metadata": {
    "colab_type": "text",
    "id": "j0xj3dv2BQIP"
   },
   "source": [
    "## Training Classifiers"
   ]
  },
  {
   "cell_type": "code",
   "execution_count": 16,
   "metadata": {
    "colab": {},
    "colab_type": "code",
    "id": "inDGtrxQIwFa"
   },
   "outputs": [],
   "source": [
    "num_attribs = [str(i) for i in range(len(num_attribs))]\n",
    "cat_attribs = [str(i) for i in range(6, len(list(X_train)))]"
   ]
  },
  {
   "cell_type": "markdown",
   "metadata": {},
   "source": [
    "Define the Repeated Stratified 10-KFold cross validation used for tuning the hyperparameters"
   ]
  },
  {
   "cell_type": "code",
   "execution_count": 17,
   "metadata": {
    "colab": {},
    "colab_type": "code",
    "id": "nyg-etkFBQIQ"
   },
   "outputs": [],
   "source": [
    "cv = RepeatedStratifiedKFold(n_splits=10, n_repeats=3, random_state=42)"
   ]
  },
  {
   "cell_type": "markdown",
   "metadata": {},
   "source": [
    "Make a pipeline that is responsible for standardizing all numerical attributes, check if any missing value exist in the categorical attributes (this is just done so we return all the categorical attributes), and then applying the classifier. When we pass this pipeline for cross-validation, the 9 KFolds will be standardized seperately from the 10th Kfold which will be used for testing. This makes it so that there is no bias inserted about the distributionn as a whole and our models are as generalized as they can be."
   ]
  },
  {
   "cell_type": "code",
   "execution_count": 18,
   "metadata": {
    "colab": {},
    "colab_type": "code",
    "id": "oPTyVHqVuDo_"
   },
   "outputs": [],
   "source": [
    "def clf_pipeline(clf):\n",
    "    numeric_transformer = Pipeline(steps=[('scaler', StandardScaler())])\n",
    "    cat_transformer = Pipeline(steps=[('imputer', SimpleImputer(missing_values=np.nan, strategy='mean'))])\n",
    "    preprocessor = ColumnTransformer(transformers=[('num', numeric_transformer, num_attribs), \n",
    "                                                   ('cat', cat_transformer, cat_attribs)])\n",
    "    clf = Pipeline(steps=[('preprocessor', preprocessor),\n",
    "                          ('classifier', clf)])\n",
    "    return clf"
   ]
  },
  {
   "cell_type": "markdown",
   "metadata": {
    "colab_type": "text",
    "id": "_ol6wzvxljCu"
   },
   "source": [
    "### Recall and Precision\n",
    "\n",
    "We will compare the performance of the designed solutions in terms of accuracy, precision, recall, ROC curve, and AUC, and determine the most promising one."
   ]
  },
  {
   "cell_type": "code",
   "execution_count": 19,
   "metadata": {
    "colab": {},
    "colab_type": "code",
    "id": "dx3ly_IA_p3e"
   },
   "outputs": [],
   "source": [
    "def get_info(clf_pipeline):\n",
    "    y_score = cross_val_predict(clf_pipeline, X_train, y_train, cv=10, method='predict_proba')\n",
    "\n",
    "    # hack to work around issue #9589 in Scikit-Learn 0.19.0\n",
    "    if y_score.ndim == 2:\n",
    "        y_score = y_score[:, 1]\n",
    "\n",
    "    false_positive_rate, true_positive_rate, threshold = roc_curve(y_train, y_score)\n",
    "\n",
    "    # Plot ROC curves\n",
    "    plt.subplots(1, figsize=(8.2,5.5))\n",
    "    plt.plot(false_positive_rate, true_positive_rate)\n",
    "    plt.plot([0, 1], ls=\"--\")\n",
    "    plt.plot([0, 0], [1, 0] , c=\".7\"), plt.plot([1, 1] , c=\".7\")\n",
    "    plt.ylabel('True Positive Rate')\n",
    "    plt.xlabel('False Positive Rate')\n",
    "    plt.show()\n",
    "\n",
    "    # Precision v. Recall    \n",
    "    P0, R0, T0 = precision_recall_curve(y_train, y_score)\n",
    "    plt.figure(1, figsize=(18, 12))\n",
    "    plt.clf()\n",
    "    plt.subplot(224)\n",
    "    plt.plot(R0, P0, \"b-\", linewidth=3)\n",
    "    plt.xlabel(\"Recall\", fontsize=16)\n",
    "    plt.ylabel(\"Precision\", fontsize=16)\n",
    "    plt.axis([0, 1, 0, 1])\n",
    "    plt.show()\n",
    "\n",
    "    # Report the ROC AUC score\n",
    "    print('\\nROC AUC Score for', clf_pipeline[1].__class__.__name__, ':', roc_auc_score(y_train, y_score), '\\n')"
   ]
  },
  {
   "cell_type": "markdown",
   "metadata": {
    "colab_type": "text",
    "id": "IElztQ9cBQIS"
   },
   "source": [
    "### SVM with Hyperparameter Tuning"
   ]
  },
  {
   "cell_type": "markdown",
   "metadata": {},
   "source": [
    "A Support Vector Machine (SVM) performs classification by finding the hyperplane that maximizes the margin between the two classes. The vectors (cases) that define the hyperplane are the support vectors.\t"
   ]
  },
  {
   "cell_type": "code",
   "execution_count": 20,
   "metadata": {
    "colab": {
     "base_uri": "https://localhost:8080/",
     "height": 34
    },
    "colab_type": "code",
    "id": "TxpC_w6yBQIT",
    "outputId": "f0651a7e-b107-4110-cffa-30e17bc6a412"
   },
   "outputs": [
    {
     "name": "stdout",
     "output_type": "stream",
     "text": [
      "Parameters: {'classifier__C': 1.0, 'classifier__gamma': 'scale', 'classifier__kernel': 'rbf'} with an accuracy of 0.901590\n"
     ]
    }
   ],
   "source": [
    "kernel = ['poly', 'rbf', 'sigmoid']\n",
    "C = [50, 10, 1.0, 0.1, 0.01]\n",
    "gamma = ['scale']\n",
    "\n",
    "grid = dict(classifier__kernel=kernel, \n",
    "            classifier__C=C, \n",
    "            classifier__gamma=gamma)\n",
    "\n",
    "grid_search = GridSearchCV(clf_pipeline(SVC(probability=True)), param_grid=grid, n_jobs=-1, cv=cv, scoring='accuracy')\n",
    "grid_search.fit(X_train, y_train)\n",
    "\n",
    "print(\"Parameters: %s with an accuracy of %f\" % (grid_search.best_params_, grid_search.best_score_))"
   ]
  },
  {
   "cell_type": "code",
   "execution_count": 21,
   "metadata": {
    "colab": {},
    "colab_type": "code",
    "id": "wKnSYVTmp78E"
   },
   "outputs": [],
   "source": [
    "svm_clf = grid_search.best_estimator_"
   ]
  },
  {
   "cell_type": "code",
   "execution_count": 22,
   "metadata": {
    "colab": {
     "base_uri": "https://localhost:8080/",
     "height": 773
    },
    "colab_type": "code",
    "id": "51cIR0v8BQJC",
    "outputId": "7dd5952f-d3b0-4b21-93e7-8e638ed73949"
   },
   "outputs": [
    {
     "data": {
      "image/png": "[encoded data removed]",
      "text/plain": [
       "<Figure size 590.4x396 with 1 Axes>"
      ]
     },
     "metadata": {
      "needs_background": "light"
     },
     "output_type": "display_data"
    },
    {
     "data": {
      "image/png": "[encoded data removed]",
      "text/plain": [
       "<Figure size 1296x864 with 1 Axes>"
      ]
     },
     "metadata": {
      "needs_background": "light"
     },
     "output_type": "display_data"
    },
    {
     "name": "stdout",
     "output_type": "stream",
     "text": [
      "\n",
      "ROC AUC Score for SVC : 0.9402449585549919 \n",
      "\n"
     ]
    }
   ],
   "source": [
    "get_info(svm_clf)"
   ]
  },
  {
   "cell_type": "markdown",
   "metadata": {
    "colab_type": "text",
    "id": "pzU6_AmbBQIc"
   },
   "source": [
    "### Random Forest Classifier with Hyperparameter Tuning\n",
    "\n",
    "Random forests or random decision forests are an ensemble learning method for classification, regression and other tasks that operate by constructing a multitude of decision trees at training time and outputting the class that is the mode of the classes or mean prediction of the individual trees."
   ]
  },
  {
   "cell_type": "code",
   "execution_count": 23,
   "metadata": {
    "colab": {
     "base_uri": "https://localhost:8080/",
     "height": 34
    },
    "colab_type": "code",
    "id": "2GGprGQarBLH",
    "outputId": "27062214-2804-48a9-a660-606effcddf24"
   },
   "outputs": [
    {
     "name": "stdout",
     "output_type": "stream",
     "text": [
      "Parameters: {'classifier__max_features': 'sqrt', 'classifier__n_estimators': 500} with an accuracy of 0.883282\n"
     ]
    }
   ],
   "source": [
    "n_estimators = [10, 100, 500, 1000]\n",
    "max_features = ['sqrt', 'log2']\n",
    "\n",
    "grid = dict(classifier__n_estimators=n_estimators, \n",
    "            classifier__max_features=max_features)\n",
    "\n",
    "grid_search = GridSearchCV(clf_pipeline(RandomForestClassifier()), param_grid=grid, n_jobs=-1, cv=cv, scoring='accuracy')\n",
    "grid_search.fit(X_train, y_train)\n",
    "\n",
    "print(\"Parameters: %s with an accuracy of %f\" % (grid_search.best_params_, grid_search.best_score_))"
   ]
  },
  {
   "cell_type": "code",
   "execution_count": 24,
   "metadata": {
    "colab": {},
    "colab_type": "code",
    "id": "j_z74LFKrjnK"
   },
   "outputs": [],
   "source": [
    "rnd_clf = grid_search.best_estimator_"
   ]
  },
  {
   "cell_type": "code",
   "execution_count": 25,
   "metadata": {
    "colab": {
     "base_uri": "https://localhost:8080/",
     "height": 773
    },
    "colab_type": "code",
    "id": "zpC5AIPabvsu",
    "outputId": "8d5215e9-e003-4fd2-ccf3-b0b842227e00"
   },
   "outputs": [
    {
     "data": {
      "image/png": "[encoded data removed]",
      "text/plain": [
       "<Figure size 590.4x396 with 1 Axes>"
      ]
     },
     "metadata": {
      "needs_background": "light"
     },
     "output_type": "display_data"
    },
    {
     "data": {
      "image/png": "[encoded data removed]",
      "text/plain": [
       "<Figure size 1296x864 with 1 Axes>"
      ]
     },
     "metadata": {
      "needs_background": "light"
     },
     "output_type": "display_data"
    },
    {
     "name": "stdout",
     "output_type": "stream",
     "text": [
      "\n",
      "ROC AUC Score for RandomForestClassifier : 0.9486267474947421 \n",
      "\n"
     ]
    }
   ],
   "source": [
    "get_info(rnd_clf)"
   ]
  },
  {
   "cell_type": "markdown",
   "metadata": {
    "colab_type": "text",
    "id": "2rxJQzu8BQIi"
   },
   "source": [
    "### Logistic Regression with Hyperparameter Tuning\n",
    "\n",
    "Logistic regression is a statistical model that in its basic form uses a logistic function to model a binary dependent variable."
   ]
  },
  {
   "cell_type": "code",
   "execution_count": 26,
   "metadata": {
    "colab": {
     "base_uri": "https://localhost:8080/",
     "height": 34
    },
    "colab_type": "code",
    "id": "j-sIJeVlBQIi",
    "outputId": "bfb91400-1513-4b3e-ae6b-2703a0766c05"
   },
   "outputs": [
    {
     "name": "stdout",
     "output_type": "stream",
     "text": [
      "Parameters: {'classifier__C': 1.0, 'classifier__penalty': 'l2', 'classifier__solver': 'saga'} with an accuracy of 0.887487\n"
     ]
    }
   ],
   "source": [
    "solvers = ['newton-cg', 'lbfgs', 'liblinear', 'sag', 'saga']\n",
    "penalty = ['l1', 'l2', 'elasticnet', 'none']\n",
    "c_values = [100, 10, 1.0, 0.1, 0.01]\n",
    "\n",
    "grid = dict(classifier__solver=solvers, \n",
    "            classifier__penalty=penalty, \n",
    "            classifier__C=c_values)\n",
    "\n",
    "grid_search = GridSearchCV(clf_pipeline(LogisticRegression()), param_grid=grid, n_jobs=-1, cv=cv, scoring='accuracy')\n",
    "grid_search.fit(X_train, y_train)\n",
    "\n",
    "print(\"Parameters: %s with an accuracy of %f\" % (grid_search.best_params_, grid_search.best_score_))"
   ]
  },
  {
   "cell_type": "code",
   "execution_count": 27,
   "metadata": {
    "colab": {},
    "colab_type": "code",
    "id": "ZdSjsWumBQIk"
   },
   "outputs": [],
   "source": [
    "log_clf = grid_search.best_estimator_"
   ]
  },
  {
   "cell_type": "code",
   "execution_count": 28,
   "metadata": {
    "colab": {
     "base_uri": "https://localhost:8080/",
     "height": 773
    },
    "colab_type": "code",
    "id": "Oh_pycSAb5oQ",
    "outputId": "d1834417-e0e5-4b18-8dfc-62f2caebc1c6"
   },
   "outputs": [
    {
     "data": {
      "image/png": "[encoded data removed]",
      "text/plain": [
       "<Figure size 590.4x396 with 1 Axes>"
      ]
     },
     "metadata": {
      "needs_background": "light"
     },
     "output_type": "display_data"
    },
    {
     "data": {
      "image/png": "[encoded data removed]",
      "text/plain": [
       "<Figure size 1296x864 with 1 Axes>"
      ]
     },
     "metadata": {
      "needs_background": "light"
     },
     "output_type": "display_data"
    },
    {
     "name": "stdout",
     "output_type": "stream",
     "text": [
      "\n",
      "ROC AUC Score for LogisticRegression : 0.9376469132747743 \n",
      "\n"
     ]
    }
   ],
   "source": [
    "get_info(log_clf)"
   ]
  },
  {
   "cell_type": "markdown",
   "metadata": {
    "colab_type": "text",
    "id": "bGSAEEl-jaRb"
   },
   "source": [
    "### K-Nearest Neighbors (KNN) with Hyperparameter Tuning\n",
    "\n",
    "In pattern recognition, the k-nearest neighbors algorithm (k-NN) is a non-parametric method used for classification and regression. In both cases, the input consists of the k closest training examples in the feature space."
   ]
  },
  {
   "cell_type": "code",
   "execution_count": 29,
   "metadata": {
    "colab": {
     "base_uri": "https://localhost:8080/",
     "height": 34
    },
    "colab_type": "code",
    "id": "64r2F336jZfF",
    "outputId": "f58ec922-a566-4cac-929c-eae4a532f7cf"
   },
   "outputs": [
    {
     "name": "stdout",
     "output_type": "stream",
     "text": [
      "Parameters: {'classifier__metric': 'manhattan', 'classifier__n_neighbors': 15, 'classifier__weights': 'uniform'} with an accuracy of 0.884667\n"
     ]
    }
   ],
   "source": [
    "n_neighbors = range(1, 21, 2)\n",
    "weights = ['uniform', 'distance']\n",
    "metric = ['euclidean', 'manhattan', 'minkowski']\n",
    "\n",
    "grid = dict(classifier__n_neighbors=n_neighbors, classifier__weights=weights, classifier__metric=metric)\n",
    "\n",
    "grid_search = GridSearchCV(clf_pipeline(KNeighborsClassifier()), param_grid=grid, n_jobs=-1, cv=cv, scoring='accuracy')\n",
    "grid_search.fit(X_train, y_train)\n",
    "\n",
    "print(\"Parameters: %s with an accuracy of %f\" % (grid_search.best_params_, grid_search.best_score_))"
   ]
  },
  {
   "cell_type": "code",
   "execution_count": 30,
   "metadata": {
    "colab": {},
    "colab_type": "code",
    "id": "XT9T2upGkDJU"
   },
   "outputs": [],
   "source": [
    "knn_clf = grid_search.best_estimator_"
   ]
  },
  {
   "cell_type": "code",
   "execution_count": 31,
   "metadata": {
    "colab": {
     "base_uri": "https://localhost:8080/",
     "height": 773
    },
    "colab_type": "code",
    "id": "7q9NZOlQkIts",
    "outputId": "fe29093c-c9d6-4e5c-d4a2-9b66368610ca"
   },
   "outputs": [
    {
     "data": {
      "image/png": "[encoded data removed]",
      "text/plain": [
       "<Figure size 590.4x396 with 1 Axes>"
      ]
     },
     "metadata": {
      "needs_background": "light"
     },
     "output_type": "display_data"
    },
    {
     "data": {
      "image/png": "[encoded data removed]",
      "text/plain": [
       "<Figure size 1296x864 with 1 Axes>"
      ]
     },
     "metadata": {
      "needs_background": "light"
     },
     "output_type": "display_data"
    },
    {
     "name": "stdout",
     "output_type": "stream",
     "text": [
      "\n",
      "ROC AUC Score for KNeighborsClassifier : 0.9307806507484845 \n",
      "\n"
     ]
    }
   ],
   "source": [
    "get_info(knn_clf)"
   ]
  },
  {
   "cell_type": "markdown",
   "metadata": {
    "colab_type": "text",
    "id": "ahLyCpCosD18"
   },
   "source": [
    "### Stochastic Gradient Boosting with Hyperparameter Tuning\n",
    "\n",
    "Stochastic gradient descent (often abbreviated SGD) is an iterative method for optimizing an objective function with suitable smoothness properties (e.g. differentiable or subdifferentiable). It can be regarded as a stochastic approximation of gradient descent optimization, since it replaces the actual gradient (calculated from the entire data set) by an estimate thereof (calculated from a randomly selected subset of the data)."
   ]
  },
  {
   "cell_type": "code",
   "execution_count": 32,
   "metadata": {
    "colab": {
     "base_uri": "https://localhost:8080/"
    },
    "colab_type": "code",
    "id": "-y-xkFlvnIQi",
    "outputId": "cc75f471-6e59-4adb-c35e-545a8a56a161"
   },
   "outputs": [
    {
     "name": "stdout",
     "output_type": "stream",
     "text": [
      "Parameters: {'classifier__learning_rate': 0.1, 'classifier__max_depth': 3, 'classifier__n_estimators': 100, 'classifier__subsample': 0.5} with an accuracy of 0.892821\n"
     ]
    }
   ],
   "source": [
    "n_estimators = [10, 100, 1000]\n",
    "learning_rate = [0.001, 0.01, 0.1]\n",
    "subsample = [0.5, 0.7, 1.0]\n",
    "max_depth = [3, 7, 9]\n",
    "\n",
    "grid = dict(classifier__learning_rate=learning_rate, classifier__n_estimators=n_estimators, classifier__subsample=subsample, classifier__max_depth=max_depth)\n",
    "\n",
    "grid_search = GridSearchCV(clf_pipeline(GradientBoostingClassifier()), param_grid=grid, n_jobs=-1, cv=cv, scoring='accuracy')\n",
    "grid_search.fit(X_train, y_train)\n",
    "\n",
    "print(\"Parameters: %s with an accuracy of %f\" % (grid_search.best_params_, grid_search.best_score_))"
   ]
  },
  {
   "cell_type": "code",
   "execution_count": 33,
   "metadata": {
    "colab": {},
    "colab_type": "code",
    "id": "JsU0D0Gpnf2z"
   },
   "outputs": [],
   "source": [
    "grad_clf = grid_search.best_estimator_"
   ]
  },
  {
   "cell_type": "code",
   "execution_count": 34,
   "metadata": {
    "colab": {
     "base_uri": "https://localhost:8080/"
    },
    "colab_type": "code",
    "id": "3k6i-hU2r_8n",
    "outputId": "da995ba1-4aa6-423e-e23b-9e586516228b"
   },
   "outputs": [
    {
     "data": {
      "image/png": "[encoded data removed]",
      "text/plain": [
       "<Figure size 590.4x396 with 1 Axes>"
      ]
     },
     "metadata": {
      "needs_background": "light"
     },
     "output_type": "display_data"
    },
    {
     "data": {
      "image/png": "[encoded data removed]",
      "text/plain": [
       "<Figure size 1296x864 with 1 Axes>"
      ]
     },
     "metadata": {
      "needs_background": "light"
     },
     "output_type": "display_data"
    },
    {
     "name": "stdout",
     "output_type": "stream",
     "text": [
      "\n",
      "ROC AUC Score for GradientBoostingClassifier : 0.9451936162315971 \n",
      "\n"
     ]
    }
   ],
   "source": [
    "get_info(grad_clf)"
   ]
  },
  {
   "cell_type": "markdown",
   "metadata": {
    "colab_type": "text",
    "id": "utmHGHn7BQIo"
   },
   "source": [
    "### Decision Tree Classifier with Bagging and Hyperparameter Tuning\n",
    "\n",
    "Bagging (Bootstrap Aggregation) is used when our goal is to reduce the variance of a decision tree. Here idea is to create several subsets of data from training sample chosen randomly with replacement. Now, each collection of subset data is used to train their decision trees."
   ]
  },
  {
   "cell_type": "code",
   "execution_count": 35,
   "metadata": {
    "colab": {},
    "colab_type": "code",
    "id": "pz1IweEqBQIo",
    "scrolled": true
   },
   "outputs": [
    {
     "name": "stdout",
     "output_type": "stream",
     "text": [
      "Parameters: {'classifier__base_estimator__criterion': 'entropy', 'classifier__base_estimator__max_depth': 4, 'classifier__base_estimator__splitter': 'random', 'classifier__max_samples': 0.2, 'classifier__n_estimators': 1000} with an accuracy of 0.893846\n"
     ]
    }
   ],
   "source": [
    "grid = {'classifier__base_estimator__max_depth' : [1, 2, 3, 4, 5],\n",
    "        'classifier__base_estimator__criterion' : ['gini', 'entropy'],\n",
    "        'classifier__base_estimator__splitter' :   ['best', 'random'],\n",
    "        'classifier__n_estimators' : [10, 100, 500, 1000],\n",
    "        'classifier__max_samples' : [0.1, 0.2, 0.5, 0.7]}\n",
    "\n",
    "grid_search = GridSearchCV(clf_pipeline(BaggingClassifier(DecisionTreeClassifier())), param_grid=grid, n_jobs=-1, cv=cv, scoring='accuracy')\n",
    "grid_search.fit(X_train, y_train)\n",
    "\n",
    "print(\"Parameters: %s with an accuracy of %f\" % (grid_search.best_params_, grid_search.best_score_))"
   ]
  },
  {
   "cell_type": "code",
   "execution_count": 36,
   "metadata": {
    "colab": {},
    "colab_type": "code",
    "id": "UTByD_pQBQIq"
   },
   "outputs": [],
   "source": [
    "bag_clf = grid_search.best_estimator_"
   ]
  },
  {
   "cell_type": "code",
   "execution_count": 51,
   "metadata": {},
   "outputs": [
    {
     "data": {
      "image/png": "[encoded data removed]",
      "text/plain": [
       "<Figure size 590.4x396 with 1 Axes>"
      ]
     },
     "metadata": {
      "needs_background": "light"
     },
     "output_type": "display_data"
    },
    {
     "data": {
      "image/png": "[encoded data removed]",
      "text/plain": [
       "<Figure size 1296x864 with 1 Axes>"
      ]
     },
     "metadata": {
      "needs_background": "light"
     },
     "output_type": "display_data"
    },
    {
     "name": "stdout",
     "output_type": "stream",
     "text": [
      "\n",
      "ROC AUC Score for BaggingClassifier : 0.9472349375231969 \n",
      "\n"
     ]
    }
   ],
   "source": [
    "get_info(bag_clf)"
   ]
  },
  {
   "cell_type": "markdown",
   "metadata": {
    "colab_type": "text",
    "id": "7H8VRm_yBQIv"
   },
   "source": [
    "### Decision Tree Classifier with Boosting and Hyperparameter Tuning\n",
    "\n",
    "Boosting means that each tree is dependent on prior trees. The algorithm learns by fitting the residual of the trees that preceded it. Thus, boosting in a decision tree ensemble tends to improve accuracy with some small risk of less coverage."
   ]
  },
  {
   "cell_type": "code",
   "execution_count": 37,
   "metadata": {
    "colab": {},
    "colab_type": "code",
    "id": "QuCgmDpUBQIw",
    "scrolled": true
   },
   "outputs": [
    {
     "name": "stdout",
     "output_type": "stream",
     "text": [
      "Parameters: {'classifier__algorithm': 'SAMME.R', 'classifier__base_estimator__criterion': 'entropy', 'classifier__base_estimator__max_depth': 5, 'classifier__base_estimator__splitter': 'best', 'classifier__learning_rate': 0.75, 'classifier__n_estimators': 1000} with an accuracy of 0.896359\n"
     ]
    }
   ],
   "source": [
    "grid = {'classifier__base_estimator__max_depth' : [1, 2, 3, 4, 5],\n",
    "        'classifier__base_estimator__criterion' : ['gini', 'entropy'],\n",
    "        'classifier__base_estimator__splitter' :   ['best', 'random'],\n",
    "        'classifier__algorithm' : ['SAMME', 'SAMME.R'],\n",
    "        'classifier__learning_rate': [0.001, 0.01, 0.1, 0.5, 0.75],\n",
    "        'classifier__n_estimators' : [10, 100, 500, 1000]}\n",
    "\n",
    "grid_search = GridSearchCV(clf_pipeline(AdaBoostClassifier(DecisionTreeClassifier())), param_grid=grid, n_jobs=-1, cv=cv, scoring='accuracy')\n",
    "grid_result = grid_search.fit(X_train, y_train)\n",
    "\n",
    "print(\"Parameters: %s with an accuracy of %f\" % (grid_search.best_params_, grid_search.best_score_))"
   ]
  },
  {
   "cell_type": "code",
   "execution_count": 38,
   "metadata": {
    "colab": {},
    "colab_type": "code",
    "id": "Y8mMNL9HBQIy"
   },
   "outputs": [],
   "source": [
    "boost_clf = grid_search.best_estimator_"
   ]
  },
  {
   "cell_type": "code",
   "execution_count": 52,
   "metadata": {},
   "outputs": [
    {
     "data": {
      "image/png": "[encoded data removed]",
      "text/plain": [
       "<Figure size 590.4x396 with 1 Axes>"
      ]
     },
     "metadata": {
      "needs_background": "light"
     },
     "output_type": "display_data"
    },
    {
     "data": {
      "image/png": "[encoded data removed]",
      "text/plain": [
       "<Figure size 1296x864 with 1 Axes>"
      ]
     },
     "metadata": {
      "needs_background": "light"
     },
     "output_type": "display_data"
    },
    {
     "name": "stdout",
     "output_type": "stream",
     "text": [
      "\n",
      "ROC AUC Score for AdaBoostClassifier : 0.940244958554992 \n",
      "\n"
     ]
    }
   ],
   "source": [
    "get_info(boost_clf)"
   ]
  },
  {
   "cell_type": "markdown",
   "metadata": {
    "colab_type": "text",
    "id": "E9XD8-hhBQI1"
   },
   "source": [
    "### Soft-voting Classifier with Hyperparameter Tuning\n",
    "Ensemble methods work best when the predictors are as independent from one another as possible. One way to get diverse classifiers is to train them using very different algorithms. This increases the chance that they will make very different types of errors, improving the ensemble’s accuracy."
   ]
  },
  {
   "cell_type": "code",
   "execution_count": 39,
   "metadata": {
    "colab": {},
    "colab_type": "code",
    "id": "RNzrfD8lBQI1"
   },
   "outputs": [],
   "source": [
    "classifiers = [('svm', svm_clf[1]),\n",
    "               ('rnd', rnd_clf[1]),\n",
    "               ('log', log_clf[1]),\n",
    "               ('knn', knn_clf[1]),\n",
    "               ('grad', grad_clf[1]),\n",
    "               ('bag', bag_clf[1]),\n",
    "               ('boost', boost_clf[1])]"
   ]
  },
  {
   "cell_type": "code",
   "execution_count": 40,
   "metadata": {
    "colab": {},
    "colab_type": "code",
    "id": "z_hZ2swOhrK7"
   },
   "outputs": [],
   "source": [
    "def combinations_on_off(num_classifiers):\n",
    "    return [[int(x) for x in list(\"{0:0b}\".format(i).zfill(num_classifiers))]\n",
    "            for i in range(1, 2 ** num_classifiers)]"
   ]
  },
  {
   "cell_type": "code",
   "execution_count": 41,
   "metadata": {
    "colab": {
     "base_uri": "https://localhost:8080/",
     "height": 561
    },
    "colab_type": "code",
    "id": "FBBlSDVyBQI5",
    "outputId": "82d9feab-cb5d-44d9-a5c8-a5aec27720d5"
   },
   "outputs": [
    {
     "name": "stdout",
     "output_type": "stream",
     "text": [
      "Parameters: {'classifier__weights': [1, 0, 0, 1, 0, 0, 1]} with an accuracy of 0.906821\n"
     ]
    }
   ],
   "source": [
    "grid = dict(classifier__weights=combinations_on_off(len(classifiers)))\n",
    "\n",
    "grid_search = GridSearchCV(clf_pipeline(VotingClassifier(classifiers, voting=\"soft\")), param_grid=grid, n_jobs=-1, cv=cv, scoring='accuracy')\n",
    "grid_search.fit(X_train, y_train)\n",
    "\n",
    "print(\"Parameters: %s with an accuracy of %f\" % (grid_search.best_params_, grid_search.best_score_))"
   ]
  },
  {
   "cell_type": "code",
   "execution_count": 42,
   "metadata": {
    "colab": {},
    "colab_type": "code",
    "id": "AI4fpmJ6BQI7"
   },
   "outputs": [],
   "source": [
    "vot_clf = grid_search.best_estimator_"
   ]
  },
  {
   "cell_type": "code",
   "execution_count": 43,
   "metadata": {
    "colab": {
     "base_uri": "https://localhost:8080/",
     "height": 773
    },
    "colab_type": "code",
    "id": "WpGT5OYeht3u",
    "outputId": "c57fedb5-c7dc-40c9-a98a-92f738932a3f"
   },
   "outputs": [
    {
     "data": {
      "image/png": "[encoded data removed]",
      "text/plain": [
       "<Figure size 590.4x396 with 1 Axes>"
      ]
     },
     "metadata": {
      "needs_background": "light"
     },
     "output_type": "display_data"
    },
    {
     "data": {
      "image/png": "[encoded data removed]",
      "text/plain": [
       "<Figure size 1296x864 with 1 Axes>"
      ]
     },
     "metadata": {
      "needs_background": "light"
     },
     "output_type": "display_data"
    },
    {
     "name": "stdout",
     "output_type": "stream",
     "text": [
      "\n",
      "ROC AUC Score for VotingClassifier : 0.9448843251268093 \n",
      "\n"
     ]
    }
   ],
   "source": [
    "get_info(vot_clf)"
   ]
  },
  {
   "cell_type": "markdown",
   "metadata": {
    "colab_type": "text",
    "id": "oImSwJx2Kf3N"
   },
   "source": [
    "## Applying Best Model on Test Data"
   ]
  },
  {
   "cell_type": "markdown",
   "metadata": {},
   "source": [
    "ROC is a probability curve and AUC represents degree or measure of separability. It tells how much our model is capable of distinguishing between classes. Higher the AUC, better the model is at predicting 0s as 0s and 1s as 1s.\n",
    "\n",
    "Even though the highest ROC AUC score is that of Random Forest, this project was catered around securing the highest accuracy so we tuned the hyperparameters accordingly.\n",
    "\n",
    "The highest accraucy rate was achieved by combining our classifiers and getting an ensemble that gave the best results."
   ]
  },
  {
   "cell_type": "code",
   "execution_count": 44,
   "metadata": {
    "colab": {
     "base_uri": "https://localhost:8080/",
     "height": 204
    },
    "colab_type": "code",
    "id": "fxfeDAlTLM4u",
    "outputId": "f97733ee-9e8d-4218-f1b3-10ebdd672428"
   },
   "outputs": [
    {
     "data": {
      "text/html": [
       "<div>\n",
       "<style scoped>\n",
       "    .dataframe tbody tr th:only-of-type {\n",
       "        vertical-align: middle;\n",
       "    }\n",
       "\n",
       "    .dataframe tbody tr th {\n",
       "        vertical-align: top;\n",
       "    }\n",
       "\n",
       "    .dataframe thead th {\n",
       "        text-align: right;\n",
       "    }\n",
       "</style>\n",
       "<table border=\"1\" class=\"dataframe\">\n",
       "  <thead>\n",
       "    <tr style=\"text-align: right;\">\n",
       "      <th></th>\n",
       "      <th>A1</th>\n",
       "      <th>A2</th>\n",
       "      <th>A3</th>\n",
       "      <th>A4</th>\n",
       "      <th>A5</th>\n",
       "      <th>A6</th>\n",
       "      <th>A7</th>\n",
       "      <th>A8</th>\n",
       "      <th>A9</th>\n",
       "      <th>A10</th>\n",
       "      <th>A11</th>\n",
       "      <th>A12</th>\n",
       "      <th>A13</th>\n",
       "      <th>A14</th>\n",
       "    </tr>\n",
       "  </thead>\n",
       "  <tbody>\n",
       "    <tr>\n",
       "      <td>0</td>\n",
       "      <td>1</td>\n",
       "      <td>58.58</td>\n",
       "      <td>2.710</td>\n",
       "      <td>2</td>\n",
       "      <td>8</td>\n",
       "      <td>4</td>\n",
       "      <td>2.415</td>\n",
       "      <td>0</td>\n",
       "      <td>0</td>\n",
       "      <td>0</td>\n",
       "      <td>1</td>\n",
       "      <td>2</td>\n",
       "      <td>320</td>\n",
       "      <td>1</td>\n",
       "    </tr>\n",
       "    <tr>\n",
       "      <td>1</td>\n",
       "      <td>1</td>\n",
       "      <td>43.25</td>\n",
       "      <td>25.210</td>\n",
       "      <td>2</td>\n",
       "      <td>11</td>\n",
       "      <td>8</td>\n",
       "      <td>0.210</td>\n",
       "      <td>1</td>\n",
       "      <td>1</td>\n",
       "      <td>1</td>\n",
       "      <td>0</td>\n",
       "      <td>2</td>\n",
       "      <td>760</td>\n",
       "      <td>91</td>\n",
       "    </tr>\n",
       "    <tr>\n",
       "      <td>2</td>\n",
       "      <td>1</td>\n",
       "      <td>19.67</td>\n",
       "      <td>10.000</td>\n",
       "      <td>1</td>\n",
       "      <td>4</td>\n",
       "      <td>8</td>\n",
       "      <td>0.835</td>\n",
       "      <td>1</td>\n",
       "      <td>0</td>\n",
       "      <td>0</td>\n",
       "      <td>1</td>\n",
       "      <td>2</td>\n",
       "      <td>140</td>\n",
       "      <td>1</td>\n",
       "    </tr>\n",
       "    <tr>\n",
       "      <td>3</td>\n",
       "      <td>1</td>\n",
       "      <td>51.83</td>\n",
       "      <td>2.040</td>\n",
       "      <td>1</td>\n",
       "      <td>1</td>\n",
       "      <td>1</td>\n",
       "      <td>1.500</td>\n",
       "      <td>0</td>\n",
       "      <td>0</td>\n",
       "      <td>0</td>\n",
       "      <td>0</td>\n",
       "      <td>2</td>\n",
       "      <td>120</td>\n",
       "      <td>2</td>\n",
       "    </tr>\n",
       "    <tr>\n",
       "      <td>4</td>\n",
       "      <td>0</td>\n",
       "      <td>25.17</td>\n",
       "      <td>2.875</td>\n",
       "      <td>2</td>\n",
       "      <td>14</td>\n",
       "      <td>8</td>\n",
       "      <td>0.875</td>\n",
       "      <td>1</td>\n",
       "      <td>0</td>\n",
       "      <td>0</td>\n",
       "      <td>0</td>\n",
       "      <td>2</td>\n",
       "      <td>360</td>\n",
       "      <td>1</td>\n",
       "    </tr>\n",
       "  </tbody>\n",
       "</table>\n",
       "</div>"
      ],
      "text/plain": [
       "   A1     A2      A3  A4  A5  A6     A7  A8  A9  A10  A11  A12  A13  A14\n",
       "0   1  58.58   2.710   2   8   4  2.415   0   0    0    1    2  320    1\n",
       "1   1  43.25  25.210   2  11   8  0.210   1   1    1    0    2  760   91\n",
       "2   1  19.67  10.000   1   4   8  0.835   1   0    0    1    2  140    1\n",
       "3   1  51.83   2.040   1   1   1  1.500   0   0    0    0    2  120    2\n",
       "4   0  25.17   2.875   2  14   8  0.875   1   0    0    0    2  360    1"
      ]
     },
     "execution_count": 44,
     "metadata": {},
     "output_type": "execute_result"
    }
   ],
   "source": [
    "test_features = pd.read_csv(r'credit_card_data/test_features.csv').drop('Unnamed: 0', axis=1)\n",
    "\n",
    "test_features.head()"
   ]
  },
  {
   "cell_type": "code",
   "execution_count": 45,
   "metadata": {
    "colab": {
     "base_uri": "https://localhost:8080/",
     "height": 34
    },
    "colab_type": "code",
    "id": "4dBBnO9TOLmk",
    "outputId": "af464cd0-d66c-492d-9bbd-97f2b31000de"
   },
   "outputs": [
    {
     "data": {
      "text/plain": [
       "(207, 14)"
      ]
     },
     "execution_count": 45,
     "metadata": {},
     "output_type": "execute_result"
    }
   ],
   "source": [
    "test_features.shape"
   ]
  },
  {
   "cell_type": "markdown",
   "metadata": {
    "colab_type": "text",
    "id": "WpX5Z500KXyJ"
   },
   "source": [
    "### Preprocess the Testing Data"
   ]
  },
  {
   "cell_type": "code",
   "execution_count": 46,
   "metadata": {
    "colab": {
     "base_uri": "https://localhost:8080/",
     "height": 136
    },
    "colab_type": "code",
    "id": "DIZTeBYRJLL0",
    "outputId": "6755d63e-d033-4827-f87c-f4e9655907b7"
   },
   "outputs": [
    {
     "data": {
      "text/plain": [
       "array([[0., 1., 0., ..., 0., 1., 0.],\n",
       "       [0., 1., 0., ..., 0., 1., 0.],\n",
       "       [0., 1., 1., ..., 0., 1., 0.],\n",
       "       ...,\n",
       "       [0., 1., 0., ..., 0., 1., 0.],\n",
       "       [1., 0., 0., ..., 0., 1., 0.],\n",
       "       [0., 1., 0., ..., 1., 0., 0.]])"
      ]
     },
     "execution_count": 46,
     "metadata": {},
     "output_type": "execute_result"
    }
   ],
   "source": [
    "cat_attribs = ['A1', 'A4', 'A5', 'A6', 'A8', 'A9', 'A11', 'A12'] # get a list of all the categorical attributes\n",
    "cat_col = test_features.loc[:, cat_attribs]\n",
    "\n",
    "encode = OneHotEncoder(categories='auto', sparse=False)\n",
    "cat_arr = encode.fit_transform(cat_col)\n",
    "cat_arr"
   ]
  },
  {
   "cell_type": "code",
   "execution_count": 47,
   "metadata": {
    "colab": {
     "base_uri": "https://localhost:8080/",
     "height": 238
    },
    "colab_type": "code",
    "id": "CIlJYt0AyCpC",
    "outputId": "2156ca1b-e759-4ddb-e445-3c31a65f9144"
   },
   "outputs": [
    {
     "data": {
      "text/plain": [
       "array([[ 2.33752599, -0.36646686,  0.18714028, -0.54781098,  0.6461304 ,\n",
       "        -0.26809269],\n",
       "       [ 1.02593414,  4.10973199, -0.62396383, -0.25853324,  2.93368217,\n",
       "        -0.24072085],\n",
       "       [-0.9915046 ,  1.08382157, -0.39405904, -0.54781098, -0.28968623,\n",
       "        -0.26809269],\n",
       "       ...,\n",
       "       [ 0.19859603, -0.35850917,  0.86214076,  1.18785543,  0.04304857,\n",
       "        -0.26809269],\n",
       "       [-0.34298104, -0.84790691, -0.65523089, -0.25853324,  0.3965793 ,\n",
       "        -0.23524648],\n",
       "       [-0.30020244, -0.64896474, -0.60924993, -0.54781098, -0.28968623,\n",
       "        -0.26809269]])"
      ]
     },
     "execution_count": 47,
     "metadata": {},
     "output_type": "execute_result"
    }
   ],
   "source": [
    "num_attribs = ['A2', 'A3', 'A7', 'A10', 'A13', 'A14'] # get a list of all the numerical attributes\n",
    "num_arr = test_features.loc[:, num_attribs]\n",
    "\n",
    "scale = StandardScaler()\n",
    "num_arr = scale.fit_transform(num_arr)\n",
    "num_arr"
   ]
  },
  {
   "cell_type": "code",
   "execution_count": 48,
   "metadata": {
    "colab": {
     "base_uri": "https://localhost:8080/",
     "height": 238
    },
    "colab_type": "code",
    "id": "9-rwkNUXyZxh",
    "outputId": "88d07d73-cf02-4381-b7dd-60635a5ece5c"
   },
   "outputs": [
    {
     "data": {
      "text/plain": [
       "array([[ 2.33752599, -0.36646686,  0.18714028, ...,  0.        ,\n",
       "         1.        ,  0.        ],\n",
       "       [ 1.02593414,  4.10973199, -0.62396383, ...,  0.        ,\n",
       "         1.        ,  0.        ],\n",
       "       [-0.9915046 ,  1.08382157, -0.39405904, ...,  0.        ,\n",
       "         1.        ,  0.        ],\n",
       "       ...,\n",
       "       [ 0.19859603, -0.35850917,  0.86214076, ...,  0.        ,\n",
       "         1.        ,  0.        ],\n",
       "       [-0.34298104, -0.84790691, -0.65523089, ...,  0.        ,\n",
       "         1.        ,  0.        ],\n",
       "       [-0.30020244, -0.64896474, -0.60924993, ...,  1.        ,\n",
       "         0.        ,  0.        ]])"
      ]
     },
     "execution_count": 48,
     "metadata": {},
     "output_type": "execute_result"
    }
   ],
   "source": [
    "features_std = np.concatenate((num_arr, cat_arr), axis=1)\n",
    "features_std"
   ]
  },
  {
   "cell_type": "code",
   "execution_count": 49,
   "metadata": {
    "colab": {
     "base_uri": "https://localhost:8080/",
     "height": 34
    },
    "colab_type": "code",
    "id": "gQRzY6lsy3A-",
    "outputId": "a35fa6b8-1a32-4020-8bb7-73b74a8d42e8"
   },
   "outputs": [
    {
     "data": {
      "text/plain": [
       "(207, 41)"
      ]
     },
     "execution_count": 49,
     "metadata": {},
     "output_type": "execute_result"
    }
   ],
   "source": [
    "features_std.shape"
   ]
  },
  {
   "cell_type": "code",
   "execution_count": 50,
   "metadata": {
    "colab": {
     "base_uri": "https://localhost:8080/",
     "height": 439
    },
    "colab_type": "code",
    "id": "wK4LSgLyJkvK",
    "outputId": "7266c848-1b16-4d40-ee38-12b8e2fd8ff7"
   },
   "outputs": [
    {
     "data": {
      "text/html": [
       "<div>\n",
       "<style scoped>\n",
       "    .dataframe tbody tr th:only-of-type {\n",
       "        vertical-align: middle;\n",
       "    }\n",
       "\n",
       "    .dataframe tbody tr th {\n",
       "        vertical-align: top;\n",
       "    }\n",
       "\n",
       "    .dataframe thead th {\n",
       "        text-align: right;\n",
       "    }\n",
       "</style>\n",
       "<table border=\"1\" class=\"dataframe\">\n",
       "  <thead>\n",
       "    <tr style=\"text-align: right;\">\n",
       "      <th></th>\n",
       "      <th>0</th>\n",
       "      <th>1</th>\n",
       "      <th>2</th>\n",
       "      <th>3</th>\n",
       "      <th>4</th>\n",
       "      <th>5</th>\n",
       "      <th>6</th>\n",
       "      <th>7</th>\n",
       "      <th>8</th>\n",
       "      <th>9</th>\n",
       "      <th>...</th>\n",
       "      <th>31</th>\n",
       "      <th>32</th>\n",
       "      <th>33</th>\n",
       "      <th>34</th>\n",
       "      <th>35</th>\n",
       "      <th>36</th>\n",
       "      <th>37</th>\n",
       "      <th>38</th>\n",
       "      <th>39</th>\n",
       "      <th>40</th>\n",
       "    </tr>\n",
       "  </thead>\n",
       "  <tbody>\n",
       "    <tr>\n",
       "      <td>0</td>\n",
       "      <td>2.337526</td>\n",
       "      <td>-0.366467</td>\n",
       "      <td>0.187140</td>\n",
       "      <td>-0.547811</td>\n",
       "      <td>0.646130</td>\n",
       "      <td>-0.268093</td>\n",
       "      <td>0.0</td>\n",
       "      <td>1.0</td>\n",
       "      <td>0.0</td>\n",
       "      <td>1.0</td>\n",
       "      <td>...</td>\n",
       "      <td>0.0</td>\n",
       "      <td>1.0</td>\n",
       "      <td>0.0</td>\n",
       "      <td>1.0</td>\n",
       "      <td>0.0</td>\n",
       "      <td>0.0</td>\n",
       "      <td>1.0</td>\n",
       "      <td>0.0</td>\n",
       "      <td>1.0</td>\n",
       "      <td>0.0</td>\n",
       "    </tr>\n",
       "    <tr>\n",
       "      <td>1</td>\n",
       "      <td>1.025934</td>\n",
       "      <td>4.109732</td>\n",
       "      <td>-0.623964</td>\n",
       "      <td>-0.258533</td>\n",
       "      <td>2.933682</td>\n",
       "      <td>-0.240721</td>\n",
       "      <td>0.0</td>\n",
       "      <td>1.0</td>\n",
       "      <td>0.0</td>\n",
       "      <td>1.0</td>\n",
       "      <td>...</td>\n",
       "      <td>0.0</td>\n",
       "      <td>0.0</td>\n",
       "      <td>1.0</td>\n",
       "      <td>0.0</td>\n",
       "      <td>1.0</td>\n",
       "      <td>1.0</td>\n",
       "      <td>0.0</td>\n",
       "      <td>0.0</td>\n",
       "      <td>1.0</td>\n",
       "      <td>0.0</td>\n",
       "    </tr>\n",
       "    <tr>\n",
       "      <td>2</td>\n",
       "      <td>-0.991505</td>\n",
       "      <td>1.083822</td>\n",
       "      <td>-0.394059</td>\n",
       "      <td>-0.547811</td>\n",
       "      <td>-0.289686</td>\n",
       "      <td>-0.268093</td>\n",
       "      <td>0.0</td>\n",
       "      <td>1.0</td>\n",
       "      <td>1.0</td>\n",
       "      <td>0.0</td>\n",
       "      <td>...</td>\n",
       "      <td>0.0</td>\n",
       "      <td>0.0</td>\n",
       "      <td>1.0</td>\n",
       "      <td>1.0</td>\n",
       "      <td>0.0</td>\n",
       "      <td>0.0</td>\n",
       "      <td>1.0</td>\n",
       "      <td>0.0</td>\n",
       "      <td>1.0</td>\n",
       "      <td>0.0</td>\n",
       "    </tr>\n",
       "    <tr>\n",
       "      <td>3</td>\n",
       "      <td>1.760015</td>\n",
       "      <td>-0.499758</td>\n",
       "      <td>-0.149440</td>\n",
       "      <td>-0.547811</td>\n",
       "      <td>-0.393666</td>\n",
       "      <td>-0.267789</td>\n",
       "      <td>0.0</td>\n",
       "      <td>1.0</td>\n",
       "      <td>1.0</td>\n",
       "      <td>0.0</td>\n",
       "      <td>...</td>\n",
       "      <td>0.0</td>\n",
       "      <td>1.0</td>\n",
       "      <td>0.0</td>\n",
       "      <td>1.0</td>\n",
       "      <td>0.0</td>\n",
       "      <td>1.0</td>\n",
       "      <td>0.0</td>\n",
       "      <td>0.0</td>\n",
       "      <td>1.0</td>\n",
       "      <td>0.0</td>\n",
       "    </tr>\n",
       "    <tr>\n",
       "      <td>4</td>\n",
       "      <td>-0.520940</td>\n",
       "      <td>-0.333641</td>\n",
       "      <td>-0.379345</td>\n",
       "      <td>-0.547811</td>\n",
       "      <td>0.854090</td>\n",
       "      <td>-0.268093</td>\n",
       "      <td>1.0</td>\n",
       "      <td>0.0</td>\n",
       "      <td>0.0</td>\n",
       "      <td>1.0</td>\n",
       "      <td>...</td>\n",
       "      <td>0.0</td>\n",
       "      <td>0.0</td>\n",
       "      <td>1.0</td>\n",
       "      <td>1.0</td>\n",
       "      <td>0.0</td>\n",
       "      <td>1.0</td>\n",
       "      <td>0.0</td>\n",
       "      <td>0.0</td>\n",
       "      <td>1.0</td>\n",
       "      <td>0.0</td>\n",
       "    </tr>\n",
       "    <tr>\n",
       "      <td>...</td>\n",
       "      <td>...</td>\n",
       "      <td>...</td>\n",
       "      <td>...</td>\n",
       "      <td>...</td>\n",
       "      <td>...</td>\n",
       "      <td>...</td>\n",
       "      <td>...</td>\n",
       "      <td>...</td>\n",
       "      <td>...</td>\n",
       "      <td>...</td>\n",
       "      <td>...</td>\n",
       "      <td>...</td>\n",
       "      <td>...</td>\n",
       "      <td>...</td>\n",
       "      <td>...</td>\n",
       "      <td>...</td>\n",
       "      <td>...</td>\n",
       "      <td>...</td>\n",
       "      <td>...</td>\n",
       "      <td>...</td>\n",
       "      <td>...</td>\n",
       "    </tr>\n",
       "    <tr>\n",
       "      <td>202</td>\n",
       "      <td>-0.129088</td>\n",
       "      <td>-0.773304</td>\n",
       "      <td>-0.609250</td>\n",
       "      <td>-0.547811</td>\n",
       "      <td>0.542151</td>\n",
       "      <td>-0.268093</td>\n",
       "      <td>1.0</td>\n",
       "      <td>0.0</td>\n",
       "      <td>0.0</td>\n",
       "      <td>1.0</td>\n",
       "      <td>...</td>\n",
       "      <td>0.0</td>\n",
       "      <td>1.0</td>\n",
       "      <td>0.0</td>\n",
       "      <td>1.0</td>\n",
       "      <td>0.0</td>\n",
       "      <td>0.0</td>\n",
       "      <td>1.0</td>\n",
       "      <td>0.0</td>\n",
       "      <td>1.0</td>\n",
       "      <td>0.0</td>\n",
       "    </tr>\n",
       "    <tr>\n",
       "      <td>203</td>\n",
       "      <td>0.669161</td>\n",
       "      <td>0.288053</td>\n",
       "      <td>-0.226688</td>\n",
       "      <td>0.898578</td>\n",
       "      <td>-0.456054</td>\n",
       "      <td>0.065540</td>\n",
       "      <td>0.0</td>\n",
       "      <td>1.0</td>\n",
       "      <td>0.0</td>\n",
       "      <td>1.0</td>\n",
       "      <td>...</td>\n",
       "      <td>0.0</td>\n",
       "      <td>0.0</td>\n",
       "      <td>1.0</td>\n",
       "      <td>0.0</td>\n",
       "      <td>1.0</td>\n",
       "      <td>0.0</td>\n",
       "      <td>1.0</td>\n",
       "      <td>0.0</td>\n",
       "      <td>1.0</td>\n",
       "      <td>0.0</td>\n",
       "    </tr>\n",
       "    <tr>\n",
       "      <td>204</td>\n",
       "      <td>0.198596</td>\n",
       "      <td>-0.358509</td>\n",
       "      <td>0.862141</td>\n",
       "      <td>1.187855</td>\n",
       "      <td>0.043049</td>\n",
       "      <td>-0.268093</td>\n",
       "      <td>0.0</td>\n",
       "      <td>1.0</td>\n",
       "      <td>0.0</td>\n",
       "      <td>1.0</td>\n",
       "      <td>...</td>\n",
       "      <td>0.0</td>\n",
       "      <td>0.0</td>\n",
       "      <td>1.0</td>\n",
       "      <td>0.0</td>\n",
       "      <td>1.0</td>\n",
       "      <td>1.0</td>\n",
       "      <td>0.0</td>\n",
       "      <td>0.0</td>\n",
       "      <td>1.0</td>\n",
       "      <td>0.0</td>\n",
       "    </tr>\n",
       "    <tr>\n",
       "      <td>205</td>\n",
       "      <td>-0.342981</td>\n",
       "      <td>-0.847907</td>\n",
       "      <td>-0.655231</td>\n",
       "      <td>-0.258533</td>\n",
       "      <td>0.396579</td>\n",
       "      <td>-0.235246</td>\n",
       "      <td>1.0</td>\n",
       "      <td>0.0</td>\n",
       "      <td>0.0</td>\n",
       "      <td>1.0</td>\n",
       "      <td>...</td>\n",
       "      <td>0.0</td>\n",
       "      <td>1.0</td>\n",
       "      <td>0.0</td>\n",
       "      <td>0.0</td>\n",
       "      <td>1.0</td>\n",
       "      <td>0.0</td>\n",
       "      <td>1.0</td>\n",
       "      <td>0.0</td>\n",
       "      <td>1.0</td>\n",
       "      <td>0.0</td>\n",
       "    </tr>\n",
       "    <tr>\n",
       "      <td>206</td>\n",
       "      <td>-0.300202</td>\n",
       "      <td>-0.648965</td>\n",
       "      <td>-0.609250</td>\n",
       "      <td>-0.547811</td>\n",
       "      <td>-0.289686</td>\n",
       "      <td>-0.268093</td>\n",
       "      <td>0.0</td>\n",
       "      <td>1.0</td>\n",
       "      <td>0.0</td>\n",
       "      <td>1.0</td>\n",
       "      <td>...</td>\n",
       "      <td>0.0</td>\n",
       "      <td>1.0</td>\n",
       "      <td>0.0</td>\n",
       "      <td>1.0</td>\n",
       "      <td>0.0</td>\n",
       "      <td>0.0</td>\n",
       "      <td>1.0</td>\n",
       "      <td>1.0</td>\n",
       "      <td>0.0</td>\n",
       "      <td>0.0</td>\n",
       "    </tr>\n",
       "  </tbody>\n",
       "</table>\n",
       "<p>207 rows × 41 columns</p>\n",
       "</div>"
      ],
      "text/plain": [
       "            0         1         2         3         4         5    6    7  \\\n",
       "0    2.337526 -0.366467  0.187140 -0.547811  0.646130 -0.268093  0.0  1.0   \n",
       "1    1.025934  4.109732 -0.623964 -0.258533  2.933682 -0.240721  0.0  1.0   \n",
       "2   -0.991505  1.083822 -0.394059 -0.547811 -0.289686 -0.268093  0.0  1.0   \n",
       "3    1.760015 -0.499758 -0.149440 -0.547811 -0.393666 -0.267789  0.0  1.0   \n",
       "4   -0.520940 -0.333641 -0.379345 -0.547811  0.854090 -0.268093  1.0  0.0   \n",
       "..        ...       ...       ...       ...       ...       ...  ...  ...   \n",
       "202 -0.129088 -0.773304 -0.609250 -0.547811  0.542151 -0.268093  1.0  0.0   \n",
       "203  0.669161  0.288053 -0.226688  0.898578 -0.456054  0.065540  0.0  1.0   \n",
       "204  0.198596 -0.358509  0.862141  1.187855  0.043049 -0.268093  0.0  1.0   \n",
       "205 -0.342981 -0.847907 -0.655231 -0.258533  0.396579 -0.235246  1.0  0.0   \n",
       "206 -0.300202 -0.648965 -0.609250 -0.547811 -0.289686 -0.268093  0.0  1.0   \n",
       "\n",
       "       8    9  ...   31   32   33   34   35   36   37   38   39   40  \n",
       "0    0.0  1.0  ...  0.0  1.0  0.0  1.0  0.0  0.0  1.0  0.0  1.0  0.0  \n",
       "1    0.0  1.0  ...  0.0  0.0  1.0  0.0  1.0  1.0  0.0  0.0  1.0  0.0  \n",
       "2    1.0  0.0  ...  0.0  0.0  1.0  1.0  0.0  0.0  1.0  0.0  1.0  0.0  \n",
       "3    1.0  0.0  ...  0.0  1.0  0.0  1.0  0.0  1.0  0.0  0.0  1.0  0.0  \n",
       "4    0.0  1.0  ...  0.0  0.0  1.0  1.0  0.0  1.0  0.0  0.0  1.0  0.0  \n",
       "..   ...  ...  ...  ...  ...  ...  ...  ...  ...  ...  ...  ...  ...  \n",
       "202  0.0  1.0  ...  0.0  1.0  0.0  1.0  0.0  0.0  1.0  0.0  1.0  0.0  \n",
       "203  0.0  1.0  ...  0.0  0.0  1.0  0.0  1.0  0.0  1.0  0.0  1.0  0.0  \n",
       "204  0.0  1.0  ...  0.0  0.0  1.0  0.0  1.0  1.0  0.0  0.0  1.0  0.0  \n",
       "205  0.0  1.0  ...  0.0  1.0  0.0  0.0  1.0  0.0  1.0  0.0  1.0  0.0  \n",
       "206  0.0  1.0  ...  0.0  1.0  0.0  1.0  0.0  0.0  1.0  1.0  0.0  0.0  \n",
       "\n",
       "[207 rows x 41 columns]"
      ]
     },
     "execution_count": 50,
     "metadata": {},
     "output_type": "execute_result"
    }
   ],
   "source": [
    "X_test = pd.DataFrame(data=features_std, \n",
    "                      index=[str(i) for i in range(len(features_std))], \n",
    "                      columns=[str(i) for i in range(len(features_std[0]))])\n",
    "\n",
    "X_test"
   ]
  },
  {
   "cell_type": "markdown",
   "metadata": {
    "colab_type": "text",
    "id": "ZCnOvNCOKdyc"
   },
   "source": [
    "### Final Output"
   ]
  },
  {
   "cell_type": "code",
   "execution_count": 53,
   "metadata": {
    "colab": {
     "base_uri": "https://localhost:8080/",
     "height": 187
    },
    "colab_type": "code",
    "id": "ftKD5tMUK8EW",
    "outputId": "d899cba8-9353-48cc-d149-4101bfa9e481"
   },
   "outputs": [
    {
     "data": {
      "text/plain": [
       "array([0, 1, 0, 0, 1, 0, 0, 1, 1, 1, 0, 0, 0, 0, 0, 0, 1, 0, 0, 1, 0, 1,\n",
       "       1, 0, 0, 0, 1, 1, 0, 1, 1, 1, 1, 0, 1, 0, 0, 0, 0, 0, 0, 0, 1, 1,\n",
       "       1, 0, 0, 1, 0, 1, 0, 0, 0, 1, 1, 0, 0, 0, 0, 0, 1, 0, 1, 1, 0, 1,\n",
       "       1, 1, 0, 1, 0, 0, 1, 1, 0, 1, 0, 0, 0, 1, 1, 0, 1, 0, 0, 1, 0, 0,\n",
       "       1, 0, 0, 1, 0, 1, 0, 0, 1, 1, 0, 1, 0, 1, 0, 0, 1, 0, 1, 1, 1, 1,\n",
       "       0, 0, 0, 0, 1, 0, 0, 0, 0, 1, 0, 1, 1, 1, 0, 0, 1, 0, 0, 1, 1, 1,\n",
       "       1, 0, 1, 1, 0, 0, 0, 0, 0, 0, 0, 0, 0, 0, 0, 0, 1, 0, 0, 0, 1, 0,\n",
       "       0, 1, 1, 1, 0, 1, 1, 1, 0, 1, 0, 1, 0, 1, 0, 1, 0, 1, 1, 0, 1, 0,\n",
       "       0, 0, 0, 0, 0, 0, 0, 0, 1, 0, 0, 0, 0, 0, 1, 0, 0, 0, 0, 1, 0, 1,\n",
       "       0, 1, 0, 1, 0, 1, 1, 0, 0], dtype=int64)"
      ]
     },
     "execution_count": 53,
     "metadata": {},
     "output_type": "execute_result"
    }
   ],
   "source": [
    "y_pred = vot_clf[1].predict(X_test)\n",
    "y_pred"
   ]
  },
  {
   "cell_type": "code",
   "execution_count": 54,
   "metadata": {},
   "outputs": [],
   "source": [
    "labels = np.array([0, 1, 0, 0, 1, 0, 0, 1, 1, 1, 0, 0, 0, 0, 0, 0, 1, 0, 0, 1, 0, 1,\n",
    "                   1, 0, 0, 0, 1, 1, 0, 1, 1, 1, 1, 0, 1, 0, 0, 0, 0, 0, 0, 0, 1, 1,\n",
    "                   1, 0, 0, 1, 0, 1, 0, 0, 0, 1, 1, 0, 0, 0, 0, 0, 1, 0, 1, 1, 0, 1,\n",
    "                   1, 1, 0, 1, 0, 0, 1, 1, 0, 1, 0, 0, 0, 1, 1, 0, 1, 0, 0, 1, 0, 0,\n",
    "                   1, 0, 0, 1, 0, 1, 0, 0, 1, 1, 0, 1, 0, 1, 0, 0, 1, 0, 1, 1, 1, 1,\n",
    "                   0, 0, 0, 0, 1, 0, 0, 0, 0, 1, 0, 1, 1, 1, 0, 0, 1, 0, 0, 1, 1, 1,\n",
    "                   1, 0, 1, 1, 0, 0, 0, 0, 0, 0, 0, 0, 0, 0, 0, 0, 1, 0, 0, 0, 1, 0,\n",
    "                   0, 1, 1, 1, 0, 1, 1, 1, 0, 1, 0, 1, 0, 1, 0, 1, 0, 1, 1, 0, 1, 0,\n",
    "                   0, 0, 0, 0, 0, 0, 0, 0, 1, 0, 0, 0, 0, 0, 1, 0, 0, 0, 0, 1, 0, 1,\n",
    "                   0, 1, 0, 1, 0, 1, 1, 0, 0])\n",
    "\n",
    "num = np.array([i for i in range(1, len(labels)+1)])"
   ]
  },
  {
   "cell_type": "code",
   "execution_count": 57,
   "metadata": {},
   "outputs": [
    {
     "data": {
      "text/html": [
       "<div>\n",
       "<style scoped>\n",
       "    .dataframe tbody tr th:only-of-type {\n",
       "        vertical-align: middle;\n",
       "    }\n",
       "\n",
       "    .dataframe tbody tr th {\n",
       "        vertical-align: top;\n",
       "    }\n",
       "\n",
       "    .dataframe thead th {\n",
       "        text-align: right;\n",
       "    }\n",
       "</style>\n",
       "<table border=\"1\" class=\"dataframe\">\n",
       "  <thead>\n",
       "    <tr style=\"text-align: right;\">\n",
       "      <th></th>\n",
       "      <th>num</th>\n",
       "      <th>label</th>\n",
       "    </tr>\n",
       "  </thead>\n",
       "  <tbody>\n",
       "    <tr>\n",
       "      <td>0</td>\n",
       "      <td>1</td>\n",
       "      <td>0</td>\n",
       "    </tr>\n",
       "    <tr>\n",
       "      <td>1</td>\n",
       "      <td>2</td>\n",
       "      <td>1</td>\n",
       "    </tr>\n",
       "    <tr>\n",
       "      <td>2</td>\n",
       "      <td>3</td>\n",
       "      <td>0</td>\n",
       "    </tr>\n",
       "    <tr>\n",
       "      <td>3</td>\n",
       "      <td>4</td>\n",
       "      <td>0</td>\n",
       "    </tr>\n",
       "    <tr>\n",
       "      <td>4</td>\n",
       "      <td>5</td>\n",
       "      <td>1</td>\n",
       "    </tr>\n",
       "    <tr>\n",
       "      <td>...</td>\n",
       "      <td>...</td>\n",
       "      <td>...</td>\n",
       "    </tr>\n",
       "    <tr>\n",
       "      <td>202</td>\n",
       "      <td>203</td>\n",
       "      <td>0</td>\n",
       "    </tr>\n",
       "    <tr>\n",
       "      <td>203</td>\n",
       "      <td>204</td>\n",
       "      <td>1</td>\n",
       "    </tr>\n",
       "    <tr>\n",
       "      <td>204</td>\n",
       "      <td>205</td>\n",
       "      <td>1</td>\n",
       "    </tr>\n",
       "    <tr>\n",
       "      <td>205</td>\n",
       "      <td>206</td>\n",
       "      <td>0</td>\n",
       "    </tr>\n",
       "    <tr>\n",
       "      <td>206</td>\n",
       "      <td>207</td>\n",
       "      <td>0</td>\n",
       "    </tr>\n",
       "  </tbody>\n",
       "</table>\n",
       "<p>207 rows × 2 columns</p>\n",
       "</div>"
      ],
      "text/plain": [
       "     num  label\n",
       "0      1      0\n",
       "1      2      1\n",
       "2      3      0\n",
       "3      4      0\n",
       "4      5      1\n",
       "..   ...    ...\n",
       "202  203      0\n",
       "203  204      1\n",
       "204  205      1\n",
       "205  206      0\n",
       "206  207      0\n",
       "\n",
       "[207 rows x 2 columns]"
      ]
     },
     "execution_count": 57,
     "metadata": {},
     "output_type": "execute_result"
    }
   ],
   "source": [
    "result = pd.DataFrame({\"num\": num, \"label\": labels})\n",
    "\n",
    "result"
   ]
  },
  {
   "cell_type": "code",
   "execution_count": 58,
   "metadata": {},
   "outputs": [],
   "source": [
    "result.to_csv(\"test_labels.csv\", index=False)"
   ]
  }
 ],
 "metadata": {
  "colab": {
   "collapsed_sections": [
    "IElztQ9cBQIS",
    "pzU6_AmbBQIc",
    "2rxJQzu8BQIi",
    "bGSAEEl-jaRb",
    "ahLyCpCosD18",
    "utmHGHn7BQIo",
    "7H8VRm_yBQIv"
   ],
   "name": "math_5671_final_project.ipynb",
   "provenance": []
  },
  "kernelspec": {
   "display_name": "Python 3",
   "language": "python",
   "name": "python3"
  },
  "language_info": {
   "codemirror_mode": {
    "name": "ipython",
    "version": 3
   },
   "file_extension": ".py",
   "mimetype": "text/x-python",
   "name": "python",
   "nbconvert_exporter": "python",
   "pygments_lexer": "ipython3",
   "version": "3.7.9"
  }
 },
 "nbformat": 4,
 "nbformat_minor": 4
}
